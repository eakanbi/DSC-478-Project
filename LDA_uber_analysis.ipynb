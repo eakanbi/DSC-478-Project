{
 "cells": [
  {
   "attachments": {},
   "cell_type": "markdown",
   "metadata": {},
   "source": [
    "# Emmanuel Akanbi <br> LDA Uber Analysis Final Project\n"
   ]
  },
  {
   "cell_type": "markdown",
   "metadata": {},
   "source": [
    "# Loading the Data and Importing Libraries"
   ]
  },
  {
   "cell_type": "code",
   "execution_count": 101,
   "metadata": {},
   "outputs": [],
   "source": [
    "import numpy as np\n",
    "import pandas as pd\n",
    "import matplotlib.pyplot as plt\n",
    "from collections import Counter\n",
    "import seaborn as sns\n",
    "import operator\n",
    "import warnings\n",
    "from datetime import datetime, date\n",
    "import haversine as hs\n",
    "from haversine import Unit\n",
    "from sklearn.neighbors import NearestCentroid\n",
    "warnings.filterwarnings(\"ignore\")\n",
    "%matplotlib inline\n",
    "from geopy.geocoders import Nominatim\n",
    "import re\n",
    "import calendar"
   ]
  },
  {
   "cell_type": "code",
   "execution_count": 102,
   "metadata": {},
   "outputs": [
    {
     "data": {
      "text/html": [
       "<div>\n",
       "<style scoped>\n",
       "    .dataframe tbody tr th:only-of-type {\n",
       "        vertical-align: middle;\n",
       "    }\n",
       "\n",
       "    .dataframe tbody tr th {\n",
       "        vertical-align: top;\n",
       "    }\n",
       "\n",
       "    .dataframe thead th {\n",
       "        text-align: right;\n",
       "    }\n",
       "</style>\n",
       "<table border=\"1\" class=\"dataframe\">\n",
       "  <thead>\n",
       "    <tr style=\"text-align: right;\">\n",
       "      <th></th>\n",
       "      <th>Unnamed: 0</th>\n",
       "      <th>key</th>\n",
       "      <th>fare_amount</th>\n",
       "      <th>pickup_datetime</th>\n",
       "      <th>pickup_longitude</th>\n",
       "      <th>pickup_latitude</th>\n",
       "      <th>dropoff_longitude</th>\n",
       "      <th>dropoff_latitude</th>\n",
       "      <th>passenger_count</th>\n",
       "    </tr>\n",
       "  </thead>\n",
       "  <tbody>\n",
       "    <tr>\n",
       "      <th>0</th>\n",
       "      <td>24238194</td>\n",
       "      <td>2015-05-07 19:52:06.0000003</td>\n",
       "      <td>7.5</td>\n",
       "      <td>2015-05-07 19:52:06 UTC</td>\n",
       "      <td>-73.999817</td>\n",
       "      <td>40.738354</td>\n",
       "      <td>-73.999512</td>\n",
       "      <td>40.723217</td>\n",
       "      <td>1</td>\n",
       "    </tr>\n",
       "    <tr>\n",
       "      <th>1</th>\n",
       "      <td>27835199</td>\n",
       "      <td>2009-07-17 20:04:56.0000002</td>\n",
       "      <td>7.7</td>\n",
       "      <td>2009-07-17 20:04:56 UTC</td>\n",
       "      <td>-73.994355</td>\n",
       "      <td>40.728225</td>\n",
       "      <td>-73.994710</td>\n",
       "      <td>40.750325</td>\n",
       "      <td>1</td>\n",
       "    </tr>\n",
       "    <tr>\n",
       "      <th>2</th>\n",
       "      <td>44984355</td>\n",
       "      <td>2009-08-24 21:45:00.00000061</td>\n",
       "      <td>12.9</td>\n",
       "      <td>2009-08-24 21:45:00 UTC</td>\n",
       "      <td>-74.005043</td>\n",
       "      <td>40.740770</td>\n",
       "      <td>-73.962565</td>\n",
       "      <td>40.772647</td>\n",
       "      <td>1</td>\n",
       "    </tr>\n",
       "    <tr>\n",
       "      <th>3</th>\n",
       "      <td>25894730</td>\n",
       "      <td>2009-06-26 08:22:21.0000001</td>\n",
       "      <td>5.3</td>\n",
       "      <td>2009-06-26 08:22:21 UTC</td>\n",
       "      <td>-73.976124</td>\n",
       "      <td>40.790844</td>\n",
       "      <td>-73.965316</td>\n",
       "      <td>40.803349</td>\n",
       "      <td>3</td>\n",
       "    </tr>\n",
       "    <tr>\n",
       "      <th>4</th>\n",
       "      <td>17610152</td>\n",
       "      <td>2014-08-28 17:47:00.000000188</td>\n",
       "      <td>16.0</td>\n",
       "      <td>2014-08-28 17:47:00 UTC</td>\n",
       "      <td>-73.925023</td>\n",
       "      <td>40.744085</td>\n",
       "      <td>-73.973082</td>\n",
       "      <td>40.761247</td>\n",
       "      <td>5</td>\n",
       "    </tr>\n",
       "  </tbody>\n",
       "</table>\n",
       "</div>"
      ],
      "text/plain": [
       "   Unnamed: 0                            key  fare_amount  \\\n",
       "0    24238194    2015-05-07 19:52:06.0000003          7.5   \n",
       "1    27835199    2009-07-17 20:04:56.0000002          7.7   \n",
       "2    44984355   2009-08-24 21:45:00.00000061         12.9   \n",
       "3    25894730    2009-06-26 08:22:21.0000001          5.3   \n",
       "4    17610152  2014-08-28 17:47:00.000000188         16.0   \n",
       "\n",
       "           pickup_datetime  pickup_longitude  pickup_latitude  \\\n",
       "0  2015-05-07 19:52:06 UTC        -73.999817        40.738354   \n",
       "1  2009-07-17 20:04:56 UTC        -73.994355        40.728225   \n",
       "2  2009-08-24 21:45:00 UTC        -74.005043        40.740770   \n",
       "3  2009-06-26 08:22:21 UTC        -73.976124        40.790844   \n",
       "4  2014-08-28 17:47:00 UTC        -73.925023        40.744085   \n",
       "\n",
       "   dropoff_longitude  dropoff_latitude  passenger_count  \n",
       "0         -73.999512         40.723217                1  \n",
       "1         -73.994710         40.750325                1  \n",
       "2         -73.962565         40.772647                1  \n",
       "3         -73.965316         40.803349                3  \n",
       "4         -73.973082         40.761247                5  "
      ]
     },
     "execution_count": 102,
     "metadata": {},
     "output_type": "execute_result"
    }
   ],
   "source": [
    "uber = pd.read_csv(\"uber.csv\")\n",
    "uber.head()"
   ]
  },
  {
   "cell_type": "code",
   "execution_count": 103,
   "metadata": {},
   "outputs": [
    {
     "data": {
      "text/plain": [
       "Index(['Unnamed: 0', 'key', 'fare_amount', 'pickup_datetime',\n",
       "       'pickup_longitude', 'pickup_latitude', 'dropoff_longitude',\n",
       "       'dropoff_latitude', 'passenger_count'],\n",
       "      dtype='object')"
      ]
     },
     "execution_count": 103,
     "metadata": {},
     "output_type": "execute_result"
    }
   ],
   "source": [
    "uber.columns"
   ]
  },
  {
   "cell_type": "code",
   "execution_count": 104,
   "metadata": {},
   "outputs": [],
   "source": [
    "uber = uber.drop(['Unnamed: 0', 'key'], axis = 1)"
   ]
  },
  {
   "cell_type": "code",
   "execution_count": 105,
   "metadata": {},
   "outputs": [
    {
     "data": {
      "text/html": [
       "<div>\n",
       "<style scoped>\n",
       "    .dataframe tbody tr th:only-of-type {\n",
       "        vertical-align: middle;\n",
       "    }\n",
       "\n",
       "    .dataframe tbody tr th {\n",
       "        vertical-align: top;\n",
       "    }\n",
       "\n",
       "    .dataframe thead th {\n",
       "        text-align: right;\n",
       "    }\n",
       "</style>\n",
       "<table border=\"1\" class=\"dataframe\">\n",
       "  <thead>\n",
       "    <tr style=\"text-align: right;\">\n",
       "      <th></th>\n",
       "      <th>fare_amount</th>\n",
       "      <th>pickup_longitude</th>\n",
       "      <th>pickup_latitude</th>\n",
       "      <th>dropoff_longitude</th>\n",
       "      <th>dropoff_latitude</th>\n",
       "      <th>passenger_count</th>\n",
       "    </tr>\n",
       "  </thead>\n",
       "  <tbody>\n",
       "    <tr>\n",
       "      <th>count</th>\n",
       "      <td>200000.000000</td>\n",
       "      <td>200000.000000</td>\n",
       "      <td>200000.000000</td>\n",
       "      <td>199999.000000</td>\n",
       "      <td>199999.000000</td>\n",
       "      <td>200000.000000</td>\n",
       "    </tr>\n",
       "    <tr>\n",
       "      <th>mean</th>\n",
       "      <td>11.359955</td>\n",
       "      <td>-72.527638</td>\n",
       "      <td>39.935885</td>\n",
       "      <td>-72.525292</td>\n",
       "      <td>39.923890</td>\n",
       "      <td>1.684535</td>\n",
       "    </tr>\n",
       "    <tr>\n",
       "      <th>std</th>\n",
       "      <td>9.901776</td>\n",
       "      <td>11.437787</td>\n",
       "      <td>7.720539</td>\n",
       "      <td>13.117408</td>\n",
       "      <td>6.794829</td>\n",
       "      <td>1.385997</td>\n",
       "    </tr>\n",
       "    <tr>\n",
       "      <th>min</th>\n",
       "      <td>-52.000000</td>\n",
       "      <td>-1340.648410</td>\n",
       "      <td>-74.015515</td>\n",
       "      <td>-3356.666300</td>\n",
       "      <td>-881.985513</td>\n",
       "      <td>0.000000</td>\n",
       "    </tr>\n",
       "    <tr>\n",
       "      <th>25%</th>\n",
       "      <td>6.000000</td>\n",
       "      <td>-73.992065</td>\n",
       "      <td>40.734796</td>\n",
       "      <td>-73.991407</td>\n",
       "      <td>40.733823</td>\n",
       "      <td>1.000000</td>\n",
       "    </tr>\n",
       "    <tr>\n",
       "      <th>50%</th>\n",
       "      <td>8.500000</td>\n",
       "      <td>-73.981823</td>\n",
       "      <td>40.752592</td>\n",
       "      <td>-73.980093</td>\n",
       "      <td>40.753042</td>\n",
       "      <td>1.000000</td>\n",
       "    </tr>\n",
       "    <tr>\n",
       "      <th>75%</th>\n",
       "      <td>12.500000</td>\n",
       "      <td>-73.967154</td>\n",
       "      <td>40.767158</td>\n",
       "      <td>-73.963658</td>\n",
       "      <td>40.768001</td>\n",
       "      <td>2.000000</td>\n",
       "    </tr>\n",
       "    <tr>\n",
       "      <th>max</th>\n",
       "      <td>499.000000</td>\n",
       "      <td>57.418457</td>\n",
       "      <td>1644.421482</td>\n",
       "      <td>1153.572603</td>\n",
       "      <td>872.697628</td>\n",
       "      <td>208.000000</td>\n",
       "    </tr>\n",
       "  </tbody>\n",
       "</table>\n",
       "</div>"
      ],
      "text/plain": [
       "         fare_amount  pickup_longitude  pickup_latitude  dropoff_longitude  \\\n",
       "count  200000.000000     200000.000000    200000.000000      199999.000000   \n",
       "mean       11.359955        -72.527638        39.935885         -72.525292   \n",
       "std         9.901776         11.437787         7.720539          13.117408   \n",
       "min       -52.000000      -1340.648410       -74.015515       -3356.666300   \n",
       "25%         6.000000        -73.992065        40.734796         -73.991407   \n",
       "50%         8.500000        -73.981823        40.752592         -73.980093   \n",
       "75%        12.500000        -73.967154        40.767158         -73.963658   \n",
       "max       499.000000         57.418457      1644.421482        1153.572603   \n",
       "\n",
       "       dropoff_latitude  passenger_count  \n",
       "count     199999.000000    200000.000000  \n",
       "mean          39.923890         1.684535  \n",
       "std            6.794829         1.385997  \n",
       "min         -881.985513         0.000000  \n",
       "25%           40.733823         1.000000  \n",
       "50%           40.753042         1.000000  \n",
       "75%           40.768001         2.000000  \n",
       "max          872.697628       208.000000  "
      ]
     },
     "execution_count": 105,
     "metadata": {},
     "output_type": "execute_result"
    }
   ],
   "source": [
    "uber.describe()"
   ]
  },
  {
   "cell_type": "code",
   "execution_count": 106,
   "metadata": {},
   "outputs": [
    {
     "data": {
      "text/plain": [
       "(200000, 7)"
      ]
     },
     "execution_count": 106,
     "metadata": {},
     "output_type": "execute_result"
    }
   ],
   "source": [
    "uber.shape"
   ]
  },
  {
   "cell_type": "markdown",
   "metadata": {},
   "source": [
    "## Cleaning and Initial Exploration"
   ]
  },
  {
   "cell_type": "code",
   "execution_count": 107,
   "metadata": {},
   "outputs": [
    {
     "data": {
      "text/plain": [
       "fare_amount          0\n",
       "pickup_datetime      0\n",
       "pickup_longitude     0\n",
       "pickup_latitude      0\n",
       "dropoff_longitude    1\n",
       "dropoff_latitude     1\n",
       "passenger_count      0\n",
       "dtype: int64"
      ]
     },
     "execution_count": 107,
     "metadata": {},
     "output_type": "execute_result"
    }
   ],
   "source": [
    "uber.isnull().sum()"
   ]
  },
  {
   "cell_type": "code",
   "execution_count": 108,
   "metadata": {},
   "outputs": [
    {
     "data": {
      "text/html": [
       "<div>\n",
       "<style scoped>\n",
       "    .dataframe tbody tr th:only-of-type {\n",
       "        vertical-align: middle;\n",
       "    }\n",
       "\n",
       "    .dataframe tbody tr th {\n",
       "        vertical-align: top;\n",
       "    }\n",
       "\n",
       "    .dataframe thead th {\n",
       "        text-align: right;\n",
       "    }\n",
       "</style>\n",
       "<table border=\"1\" class=\"dataframe\">\n",
       "  <thead>\n",
       "    <tr style=\"text-align: right;\">\n",
       "      <th></th>\n",
       "      <th>fare_amount</th>\n",
       "      <th>pickup_datetime</th>\n",
       "      <th>pickup_longitude</th>\n",
       "      <th>pickup_latitude</th>\n",
       "      <th>dropoff_longitude</th>\n",
       "      <th>dropoff_latitude</th>\n",
       "      <th>passenger_count</th>\n",
       "    </tr>\n",
       "  </thead>\n",
       "  <tbody>\n",
       "    <tr>\n",
       "      <th>113038</th>\n",
       "      <td>11.7</td>\n",
       "      <td>2010-12-28 08:20:00 UTC</td>\n",
       "      <td>-73.937795</td>\n",
       "      <td>40.758498</td>\n",
       "      <td>-73.937835</td>\n",
       "      <td>40.758415</td>\n",
       "      <td>208</td>\n",
       "    </tr>\n",
       "  </tbody>\n",
       "</table>\n",
       "</div>"
      ],
      "text/plain": [
       "        fare_amount          pickup_datetime  pickup_longitude  \\\n",
       "113038         11.7  2010-12-28 08:20:00 UTC        -73.937795   \n",
       "\n",
       "        pickup_latitude  dropoff_longitude  dropoff_latitude  passenger_count  \n",
       "113038        40.758498         -73.937835         40.758415              208  "
      ]
     },
     "execution_count": 108,
     "metadata": {},
     "output_type": "execute_result"
    }
   ],
   "source": [
    "#only one with passenger count over 6 may drop\n",
    "uber_passenger_count_over_6 = uber[uber[\"passenger_count\"]>6]\n",
    "uber_passenger_count_over_6"
   ]
  },
  {
   "cell_type": "code",
   "execution_count": 109,
   "metadata": {},
   "outputs": [
    {
     "name": "stdout",
     "output_type": "stream",
     "text": [
      "Empty DataFrame\n",
      "Columns: [fare_amount, pickup_datetime, pickup_longitude, pickup_latitude, dropoff_longitude, dropoff_latitude, passenger_count]\n",
      "Index: []\n",
      "Empty DataFrame\n",
      "Columns: [fare_amount, pickup_datetime, pickup_longitude, pickup_latitude, dropoff_longitude, dropoff_latitude, passenger_count]\n",
      "Index: []\n"
     ]
    }
   ],
   "source": [
    "uber_null_lat = uber[uber[\"pickup_latitude\"].isnull()]\n",
    "print(uber_null_lat)\n",
    "uber_null_lon = uber[uber[\"pickup_longitude\"].isnull()]\n",
    "print(uber_null_lon)"
   ]
  },
  {
   "cell_type": "code",
   "execution_count": 110,
   "metadata": {},
   "outputs": [
    {
     "data": {
      "text/plain": [
       "fare_amount          0\n",
       "pickup_datetime      0\n",
       "pickup_longitude     0\n",
       "pickup_latitude      0\n",
       "dropoff_longitude    0\n",
       "dropoff_latitude     0\n",
       "passenger_count      0\n",
       "dtype: int64"
      ]
     },
     "execution_count": 110,
     "metadata": {},
     "output_type": "execute_result"
    }
   ],
   "source": [
    "uber = uber.dropna(axis=0)\n",
    "uber.isnull().sum()"
   ]
  },
  {
   "cell_type": "code",
   "execution_count": 111,
   "metadata": {},
   "outputs": [
    {
     "data": {
      "text/plain": [
       "(199998, 7)"
      ]
     },
     "execution_count": 111,
     "metadata": {},
     "output_type": "execute_result"
    }
   ],
   "source": [
    "uber = uber[uber[\"passenger_count\"]!=208]\n",
    "uber.shape"
   ]
  },
  {
   "cell_type": "code",
   "execution_count": 112,
   "metadata": {},
   "outputs": [
    {
     "data": {
      "image/png": "[encoded data removed]",
      "text/plain": [
       "<Figure size 432x288 with 1 Axes>"
      ]
     },
     "metadata": {
      "needs_background": "light"
     },
     "output_type": "display_data"
    }
   ],
   "source": [
    "sns.histplot(uber, x=\"passenger_count\")\n",
    "plt.show()"
   ]
  },
  {
   "cell_type": "code",
   "execution_count": 113,
   "metadata": {},
   "outputs": [
    {
     "data": {
      "text/plain": [
       "(199998, 7)"
      ]
     },
     "execution_count": 113,
     "metadata": {},
     "output_type": "execute_result"
    }
   ],
   "source": [
    "uber.shape"
   ]
  },
  {
   "cell_type": "code",
   "execution_count": 114,
   "metadata": {},
   "outputs": [],
   "source": [
    "#some latitude and longitude points were not in range\n",
    "uber_cleaned = uber[((uber[\"pickup_latitude\"] >= -90) & (uber[\"pickup_latitude\"] <= 90)) &\n",
    "((uber[\"dropoff_latitude\"] >= -90) & (uber[\"dropoff_latitude\"] <= 90)) &\n",
    "((uber[\"pickup_longitude\"] >= -180) & (uber[\"pickup_longitude\"] <= 180)) &\n",
    "((uber[\"dropoff_longitude\"] >= -180) & (uber[\"dropoff_longitude\"] <= 180))\n",
    "]"
   ]
  },
  {
   "cell_type": "code",
   "execution_count": 115,
   "metadata": {},
   "outputs": [],
   "source": [
    "#some fare_amounts less than 0\n",
    "uber_cleaned=uber_cleaned[uber_cleaned[\"fare_amount\"]>0]"
   ]
  },
  {
   "cell_type": "code",
   "execution_count": 116,
   "metadata": {},
   "outputs": [],
   "source": [
    "uber_cleaned = uber_cleaned[uber_cleaned[\"pickup_longitude\"]!=0]"
   ]
  },
  {
   "cell_type": "code",
   "execution_count": 117,
   "metadata": {},
   "outputs": [
    {
     "data": {
      "text/plain": [
       "(196179, 7)"
      ]
     },
     "execution_count": 117,
     "metadata": {},
     "output_type": "execute_result"
    }
   ],
   "source": [
    "uber_cleaned.shape"
   ]
  },
  {
   "cell_type": "code",
   "execution_count": 118,
   "metadata": {},
   "outputs": [
    {
     "data": {
      "text/html": [
       "<div>\n",
       "<style scoped>\n",
       "    .dataframe tbody tr th:only-of-type {\n",
       "        vertical-align: middle;\n",
       "    }\n",
       "\n",
       "    .dataframe tbody tr th {\n",
       "        vertical-align: top;\n",
       "    }\n",
       "\n",
       "    .dataframe thead th {\n",
       "        text-align: right;\n",
       "    }\n",
       "</style>\n",
       "<table border=\"1\" class=\"dataframe\">\n",
       "  <thead>\n",
       "    <tr style=\"text-align: right;\">\n",
       "      <th></th>\n",
       "      <th>fare_amount</th>\n",
       "      <th>pickup_longitude</th>\n",
       "      <th>pickup_latitude</th>\n",
       "      <th>dropoff_longitude</th>\n",
       "      <th>dropoff_latitude</th>\n",
       "      <th>passenger_count</th>\n",
       "    </tr>\n",
       "  </thead>\n",
       "  <tbody>\n",
       "    <tr>\n",
       "      <th>count</th>\n",
       "      <td>196179.000000</td>\n",
       "      <td>196179.000000</td>\n",
       "      <td>196179.000000</td>\n",
       "      <td>196179.000000</td>\n",
       "      <td>196179.000000</td>\n",
       "      <td>196179.000000</td>\n",
       "    </tr>\n",
       "    <tr>\n",
       "      <th>mean</th>\n",
       "      <td>11.349921</td>\n",
       "      <td>-73.900813</td>\n",
       "      <td>40.686754</td>\n",
       "      <td>-73.836550</td>\n",
       "      <td>40.651476</td>\n",
       "      <td>1.684161</td>\n",
       "    </tr>\n",
       "    <tr>\n",
       "      <th>std</th>\n",
       "      <td>9.807117</td>\n",
       "      <td>2.814148</td>\n",
       "      <td>2.650586</td>\n",
       "      <td>3.545197</td>\n",
       "      <td>2.908971</td>\n",
       "      <td>1.307714</td>\n",
       "    </tr>\n",
       "    <tr>\n",
       "      <th>min</th>\n",
       "      <td>0.010000</td>\n",
       "      <td>-93.824668</td>\n",
       "      <td>-74.015515</td>\n",
       "      <td>-75.458979</td>\n",
       "      <td>-74.015750</td>\n",
       "      <td>0.000000</td>\n",
       "    </tr>\n",
       "    <tr>\n",
       "      <th>25%</th>\n",
       "      <td>6.000000</td>\n",
       "      <td>-73.992268</td>\n",
       "      <td>40.736392</td>\n",
       "      <td>-73.991582</td>\n",
       "      <td>40.735190</td>\n",
       "      <td>1.000000</td>\n",
       "    </tr>\n",
       "    <tr>\n",
       "      <th>50%</th>\n",
       "      <td>8.500000</td>\n",
       "      <td>-73.982101</td>\n",
       "      <td>40.753281</td>\n",
       "      <td>-73.980500</td>\n",
       "      <td>40.753700</td>\n",
       "      <td>1.000000</td>\n",
       "    </tr>\n",
       "    <tr>\n",
       "      <th>75%</th>\n",
       "      <td>12.500000</td>\n",
       "      <td>-73.968310</td>\n",
       "      <td>40.767536</td>\n",
       "      <td>-73.965220</td>\n",
       "      <td>40.768312</td>\n",
       "      <td>2.000000</td>\n",
       "    </tr>\n",
       "    <tr>\n",
       "      <th>max</th>\n",
       "      <td>499.000000</td>\n",
       "      <td>40.808425</td>\n",
       "      <td>48.018760</td>\n",
       "      <td>40.831932</td>\n",
       "      <td>45.031598</td>\n",
       "      <td>6.000000</td>\n",
       "    </tr>\n",
       "  </tbody>\n",
       "</table>\n",
       "</div>"
      ],
      "text/plain": [
       "         fare_amount  pickup_longitude  pickup_latitude  dropoff_longitude  \\\n",
       "count  196179.000000     196179.000000    196179.000000      196179.000000   \n",
       "mean       11.349921        -73.900813        40.686754         -73.836550   \n",
       "std         9.807117          2.814148         2.650586           3.545197   \n",
       "min         0.010000        -93.824668       -74.015515         -75.458979   \n",
       "25%         6.000000        -73.992268        40.736392         -73.991582   \n",
       "50%         8.500000        -73.982101        40.753281         -73.980500   \n",
       "75%        12.500000        -73.968310        40.767536         -73.965220   \n",
       "max       499.000000         40.808425        48.018760          40.831932   \n",
       "\n",
       "       dropoff_latitude  passenger_count  \n",
       "count     196179.000000    196179.000000  \n",
       "mean          40.651476         1.684161  \n",
       "std            2.908971         1.307714  \n",
       "min          -74.015750         0.000000  \n",
       "25%           40.735190         1.000000  \n",
       "50%           40.753700         1.000000  \n",
       "75%           40.768312         2.000000  \n",
       "max           45.031598         6.000000  "
      ]
     },
     "execution_count": 118,
     "metadata": {},
     "output_type": "execute_result"
    }
   ],
   "source": [
    "uber_cleaned.describe()"
   ]
  },
  {
   "cell_type": "code",
   "execution_count": 119,
   "metadata": {},
   "outputs": [
    {
     "data": {
      "image/png": "[encoded data removed]",
      "text/plain": [
       "<Figure size 432x288 with 1 Axes>"
      ]
     },
     "metadata": {
      "needs_background": "light"
     },
     "output_type": "display_data"
    }
   ],
   "source": [
    "sns.histplot(uber_cleaned,x=\"fare_amount\", bins=70)\n",
    "plt.show()"
   ]
  },
  {
   "cell_type": "markdown",
   "metadata": {},
   "source": [
    "The fare_amount variable is right skew. Will need to transform"
   ]
  },
  {
   "cell_type": "markdown",
   "metadata": {},
   "source": [
    "# Functions"
   ]
  },
  {
   "cell_type": "code",
   "execution_count": 120,
   "metadata": {},
   "outputs": [],
   "source": [
    "# calculate the distance from pick up to drop off points\n",
    "def distance (initial_latitude,initial_longitude,final_latitude,final_longitude):\n",
    "    loc1 = (initial_latitude,initial_longitude)\n",
    "    loc2 = (final_latitude,final_longitude)\n",
    "    dist = hs.haversine(loc1,loc2, unit=Unit.MILES)\n",
    "    return dist\n"
   ]
  },
  {
   "cell_type": "code",
   "execution_count": 121,
   "metadata": {},
   "outputs": [],
   "source": [
    "#extracting the hour\n",
    "def hour (date):\n",
    "    x = datetime.strptime(date, '%Y-%m-%d %H:%M:%S %Z')\n",
    "    return x.hour"
   ]
  },
  {
   "cell_type": "code",
   "execution_count": 122,
   "metadata": {},
   "outputs": [],
   "source": [
    "#extracting the dat of the week\n",
    "def weekday(date):\n",
    "    x = datetime.strptime(date, '%Y-%m-%d %H:%M:%S %Z')\n",
    "    return x.strftime(\"%A\")\n"
   ]
  },
  {
   "cell_type": "code",
   "execution_count": 123,
   "metadata": {},
   "outputs": [],
   "source": [
    "#extracting the month\n",
    "def month(date):\n",
    "    x = datetime.strptime(date, '%Y-%m-%d %H:%M:%S %Z')\n",
    "    month_num = x.month\n",
    "    month_name = calendar.month_abbr[month_num]\n",
    "    return month_name\n"
   ]
  },
  {
   "cell_type": "code",
   "execution_count": 124,
   "metadata": {},
   "outputs": [],
   "source": [
    "#extracting the year\n",
    "def year(date):\n",
    "    x = datetime.strptime(date, '%Y-%m-%d %H:%M:%S %Z')\n",
    "    return x.year "
   ]
  },
  {
   "cell_type": "code",
   "execution_count": 125,
   "metadata": {},
   "outputs": [],
   "source": [
    "def confusion_matrix(true, pred):\n",
    "    confusion_matrix =  pd.crosstab(index = true, columns=pred.ravel(), rownames=['Expected'], colnames=['Predicted'])\n",
    "    sns.heatmap(confusion_matrix, annot=True, square=False, fmt='', cbar=False)\n",
    "    plt.title(\"Classification Matrix Test Set\", fontsize = 15)\n",
    "    plt.show()"
   ]
  },
  {
   "cell_type": "markdown",
   "metadata": {},
   "source": [
    "## Feature Creation"
   ]
  },
  {
   "cell_type": "code",
   "execution_count": 126,
   "metadata": {},
   "outputs": [
    {
     "data": {
      "text/html": [
       "<div>\n",
       "<style scoped>\n",
       "    .dataframe tbody tr th:only-of-type {\n",
       "        vertical-align: middle;\n",
       "    }\n",
       "\n",
       "    .dataframe tbody tr th {\n",
       "        vertical-align: top;\n",
       "    }\n",
       "\n",
       "    .dataframe thead th {\n",
       "        text-align: right;\n",
       "    }\n",
       "</style>\n",
       "<table border=\"1\" class=\"dataframe\">\n",
       "  <thead>\n",
       "    <tr style=\"text-align: right;\">\n",
       "      <th></th>\n",
       "      <th>fare_amount</th>\n",
       "      <th>pickup_datetime</th>\n",
       "      <th>pickup_longitude</th>\n",
       "      <th>pickup_latitude</th>\n",
       "      <th>dropoff_longitude</th>\n",
       "      <th>dropoff_latitude</th>\n",
       "      <th>passenger_count</th>\n",
       "      <th>distance(mi)</th>\n",
       "      <th>fare_per_distance</th>\n",
       "      <th>year</th>\n",
       "      <th>month</th>\n",
       "      <th>day_of_week</th>\n",
       "      <th>hour</th>\n",
       "    </tr>\n",
       "  </thead>\n",
       "  <tbody>\n",
       "    <tr>\n",
       "      <th>0</th>\n",
       "      <td>7.5</td>\n",
       "      <td>2015-05-07 19:52:06 UTC</td>\n",
       "      <td>-73.999817</td>\n",
       "      <td>40.738354</td>\n",
       "      <td>-73.999512</td>\n",
       "      <td>40.723217</td>\n",
       "      <td>1</td>\n",
       "      <td>1.045970</td>\n",
       "      <td>7.17</td>\n",
       "      <td>2015</td>\n",
       "      <td>May</td>\n",
       "      <td>Thursday</td>\n",
       "      <td>19</td>\n",
       "    </tr>\n",
       "    <tr>\n",
       "      <th>1</th>\n",
       "      <td>7.7</td>\n",
       "      <td>2009-07-17 20:04:56 UTC</td>\n",
       "      <td>-73.994355</td>\n",
       "      <td>40.728225</td>\n",
       "      <td>-73.994710</td>\n",
       "      <td>40.750325</td>\n",
       "      <td>1</td>\n",
       "      <td>1.527078</td>\n",
       "      <td>5.04</td>\n",
       "      <td>2009</td>\n",
       "      <td>Jul</td>\n",
       "      <td>Friday</td>\n",
       "      <td>20</td>\n",
       "    </tr>\n",
       "    <tr>\n",
       "      <th>2</th>\n",
       "      <td>12.9</td>\n",
       "      <td>2009-08-24 21:45:00 UTC</td>\n",
       "      <td>-74.005043</td>\n",
       "      <td>40.740770</td>\n",
       "      <td>-73.962565</td>\n",
       "      <td>40.772647</td>\n",
       "      <td>1</td>\n",
       "      <td>3.129464</td>\n",
       "      <td>4.12</td>\n",
       "      <td>2009</td>\n",
       "      <td>Aug</td>\n",
       "      <td>Monday</td>\n",
       "      <td>21</td>\n",
       "    </tr>\n",
       "    <tr>\n",
       "      <th>3</th>\n",
       "      <td>5.3</td>\n",
       "      <td>2009-06-26 08:22:21 UTC</td>\n",
       "      <td>-73.976124</td>\n",
       "      <td>40.790844</td>\n",
       "      <td>-73.965316</td>\n",
       "      <td>40.803349</td>\n",
       "      <td>3</td>\n",
       "      <td>1.032524</td>\n",
       "      <td>5.13</td>\n",
       "      <td>2009</td>\n",
       "      <td>Jun</td>\n",
       "      <td>Friday</td>\n",
       "      <td>8</td>\n",
       "    </tr>\n",
       "    <tr>\n",
       "      <th>4</th>\n",
       "      <td>16.0</td>\n",
       "      <td>2014-08-28 17:47:00 UTC</td>\n",
       "      <td>-73.925023</td>\n",
       "      <td>40.744085</td>\n",
       "      <td>-73.973082</td>\n",
       "      <td>40.761247</td>\n",
       "      <td>5</td>\n",
       "      <td>2.780920</td>\n",
       "      <td>5.75</td>\n",
       "      <td>2014</td>\n",
       "      <td>Aug</td>\n",
       "      <td>Thursday</td>\n",
       "      <td>17</td>\n",
       "    </tr>\n",
       "    <tr>\n",
       "      <th>5</th>\n",
       "      <td>4.9</td>\n",
       "      <td>2011-02-12 02:27:09 UTC</td>\n",
       "      <td>-73.969019</td>\n",
       "      <td>40.755910</td>\n",
       "      <td>-73.969019</td>\n",
       "      <td>40.755910</td>\n",
       "      <td>1</td>\n",
       "      <td>0.000000</td>\n",
       "      <td>inf</td>\n",
       "      <td>2011</td>\n",
       "      <td>Feb</td>\n",
       "      <td>Saturday</td>\n",
       "      <td>2</td>\n",
       "    </tr>\n",
       "    <tr>\n",
       "      <th>6</th>\n",
       "      <td>24.5</td>\n",
       "      <td>2014-10-12 07:04:00 UTC</td>\n",
       "      <td>-73.961447</td>\n",
       "      <td>40.693965</td>\n",
       "      <td>-73.871195</td>\n",
       "      <td>40.774297</td>\n",
       "      <td>5</td>\n",
       "      <td>7.289325</td>\n",
       "      <td>3.36</td>\n",
       "      <td>2014</td>\n",
       "      <td>Oct</td>\n",
       "      <td>Sunday</td>\n",
       "      <td>7</td>\n",
       "    </tr>\n",
       "    <tr>\n",
       "      <th>8</th>\n",
       "      <td>9.7</td>\n",
       "      <td>2012-02-17 09:32:00 UTC</td>\n",
       "      <td>-73.975187</td>\n",
       "      <td>40.745767</td>\n",
       "      <td>-74.002720</td>\n",
       "      <td>40.743537</td>\n",
       "      <td>1</td>\n",
       "      <td>1.449481</td>\n",
       "      <td>6.69</td>\n",
       "      <td>2012</td>\n",
       "      <td>Feb</td>\n",
       "      <td>Friday</td>\n",
       "      <td>9</td>\n",
       "    </tr>\n",
       "    <tr>\n",
       "      <th>9</th>\n",
       "      <td>12.5</td>\n",
       "      <td>2012-03-29 19:06:00 UTC</td>\n",
       "      <td>-74.001065</td>\n",
       "      <td>40.741787</td>\n",
       "      <td>-73.963040</td>\n",
       "      <td>40.775012</td>\n",
       "      <td>1</td>\n",
       "      <td>3.038147</td>\n",
       "      <td>4.11</td>\n",
       "      <td>2012</td>\n",
       "      <td>Mar</td>\n",
       "      <td>Thursday</td>\n",
       "      <td>19</td>\n",
       "    </tr>\n",
       "    <tr>\n",
       "      <th>10</th>\n",
       "      <td>6.5</td>\n",
       "      <td>2015-05-22 17:32:27 UTC</td>\n",
       "      <td>-73.974388</td>\n",
       "      <td>40.746952</td>\n",
       "      <td>-73.988586</td>\n",
       "      <td>40.729805</td>\n",
       "      <td>1</td>\n",
       "      <td>1.398620</td>\n",
       "      <td>4.65</td>\n",
       "      <td>2015</td>\n",
       "      <td>May</td>\n",
       "      <td>Friday</td>\n",
       "      <td>17</td>\n",
       "    </tr>\n",
       "  </tbody>\n",
       "</table>\n",
       "</div>"
      ],
      "text/plain": [
       "    fare_amount          pickup_datetime  pickup_longitude  pickup_latitude  \\\n",
       "0           7.5  2015-05-07 19:52:06 UTC        -73.999817        40.738354   \n",
       "1           7.7  2009-07-17 20:04:56 UTC        -73.994355        40.728225   \n",
       "2          12.9  2009-08-24 21:45:00 UTC        -74.005043        40.740770   \n",
       "3           5.3  2009-06-26 08:22:21 UTC        -73.976124        40.790844   \n",
       "4          16.0  2014-08-28 17:47:00 UTC        -73.925023        40.744085   \n",
       "5           4.9  2011-02-12 02:27:09 UTC        -73.969019        40.755910   \n",
       "6          24.5  2014-10-12 07:04:00 UTC        -73.961447        40.693965   \n",
       "8           9.7  2012-02-17 09:32:00 UTC        -73.975187        40.745767   \n",
       "9          12.5  2012-03-29 19:06:00 UTC        -74.001065        40.741787   \n",
       "10          6.5  2015-05-22 17:32:27 UTC        -73.974388        40.746952   \n",
       "\n",
       "    dropoff_longitude  dropoff_latitude  passenger_count  distance(mi)  \\\n",
       "0          -73.999512         40.723217                1      1.045970   \n",
       "1          -73.994710         40.750325                1      1.527078   \n",
       "2          -73.962565         40.772647                1      3.129464   \n",
       "3          -73.965316         40.803349                3      1.032524   \n",
       "4          -73.973082         40.761247                5      2.780920   \n",
       "5          -73.969019         40.755910                1      0.000000   \n",
       "6          -73.871195         40.774297                5      7.289325   \n",
       "8          -74.002720         40.743537                1      1.449481   \n",
       "9          -73.963040         40.775012                1      3.038147   \n",
       "10         -73.988586         40.729805                1      1.398620   \n",
       "\n",
       "    fare_per_distance  year month day_of_week  hour  \n",
       "0                7.17  2015   May    Thursday    19  \n",
       "1                5.04  2009   Jul      Friday    20  \n",
       "2                4.12  2009   Aug      Monday    21  \n",
       "3                5.13  2009   Jun      Friday     8  \n",
       "4                5.75  2014   Aug    Thursday    17  \n",
       "5                 inf  2011   Feb    Saturday     2  \n",
       "6                3.36  2014   Oct      Sunday     7  \n",
       "8                6.69  2012   Feb      Friday     9  \n",
       "9                4.11  2012   Mar    Thursday    19  \n",
       "10               4.65  2015   May      Friday    17  "
      ]
     },
     "execution_count": 126,
     "metadata": {},
     "output_type": "execute_result"
    }
   ],
   "source": [
    "#calculate distance traveled\n",
    "uber_cleaned[\"distance(mi)\"] = uber_cleaned.apply(lambda x: distance(x[\"pickup_latitude\"], x[\"pickup_longitude\"], \n",
    "x[\"dropoff_latitude\"],x[\"dropoff_longitude\"]), axis =1)\n",
    "\n",
    "#fare per distance\n",
    "uber_cleaned[\"fare_per_distance\"] = round(uber_cleaned[\"fare_amount\"]/uber_cleaned[\"distance(mi)\"],2)\n",
    "uber_cleaned.head()\n",
    "\n",
    "#extract year\n",
    "uber_cleaned[\"year\"] = uber_cleaned[\"pickup_datetime\"].apply(year)\n",
    "\n",
    "#extract month\n",
    "uber_cleaned[\"month\"] = uber_cleaned[\"pickup_datetime\"].apply(month)\n",
    "\n",
    "\n",
    "# extract day of the week\n",
    "uber_cleaned[\"day_of_week\"] = uber_cleaned[\"pickup_datetime\"].apply(weekday)\n",
    "\n",
    "\n",
    "#extract hour\n",
    "uber_cleaned[\"hour\"] = uber_cleaned[\"pickup_datetime\"].apply(hour)\n",
    "uber_cleaned.head(10)"
   ]
  },
  {
   "cell_type": "code",
   "execution_count": 127,
   "metadata": {},
   "outputs": [
    {
     "data": {
      "text/html": [
       "<div>\n",
       "<style scoped>\n",
       "    .dataframe tbody tr th:only-of-type {\n",
       "        vertical-align: middle;\n",
       "    }\n",
       "\n",
       "    .dataframe tbody tr th {\n",
       "        vertical-align: top;\n",
       "    }\n",
       "\n",
       "    .dataframe thead th {\n",
       "        text-align: right;\n",
       "    }\n",
       "</style>\n",
       "<table border=\"1\" class=\"dataframe\">\n",
       "  <thead>\n",
       "    <tr style=\"text-align: right;\">\n",
       "      <th></th>\n",
       "      <th>fare_amount</th>\n",
       "      <th>pickup_longitude</th>\n",
       "      <th>pickup_latitude</th>\n",
       "      <th>dropoff_longitude</th>\n",
       "      <th>dropoff_latitude</th>\n",
       "      <th>passenger_count</th>\n",
       "      <th>distance(mi)</th>\n",
       "      <th>fare_per_distance</th>\n",
       "      <th>year</th>\n",
       "      <th>hour</th>\n",
       "    </tr>\n",
       "  </thead>\n",
       "  <tbody>\n",
       "    <tr>\n",
       "      <th>count</th>\n",
       "      <td>196179.000000</td>\n",
       "      <td>196179.000000</td>\n",
       "      <td>196179.000000</td>\n",
       "      <td>196179.000000</td>\n",
       "      <td>196179.000000</td>\n",
       "      <td>196179.000000</td>\n",
       "      <td>196179.000000</td>\n",
       "      <td>196179.00</td>\n",
       "      <td>196179.000000</td>\n",
       "      <td>196179.000000</td>\n",
       "    </tr>\n",
       "    <tr>\n",
       "      <th>mean</th>\n",
       "      <td>11.349921</td>\n",
       "      <td>-73.900813</td>\n",
       "      <td>40.686754</td>\n",
       "      <td>-73.836550</td>\n",
       "      <td>40.651476</td>\n",
       "      <td>1.684161</td>\n",
       "      <td>7.565867</td>\n",
       "      <td>inf</td>\n",
       "      <td>2011.740691</td>\n",
       "      <td>13.490980</td>\n",
       "    </tr>\n",
       "    <tr>\n",
       "      <th>std</th>\n",
       "      <td>9.807117</td>\n",
       "      <td>2.814148</td>\n",
       "      <td>2.650586</td>\n",
       "      <td>3.545197</td>\n",
       "      <td>2.908971</td>\n",
       "      <td>1.307714</td>\n",
       "      <td>166.337433</td>\n",
       "      <td>NaN</td>\n",
       "      <td>1.858772</td>\n",
       "      <td>6.514166</td>\n",
       "    </tr>\n",
       "    <tr>\n",
       "      <th>min</th>\n",
       "      <td>0.010000</td>\n",
       "      <td>-93.824668</td>\n",
       "      <td>-74.015515</td>\n",
       "      <td>-75.458979</td>\n",
       "      <td>-74.015750</td>\n",
       "      <td>0.000000</td>\n",
       "      <td>0.000000</td>\n",
       "      <td>0.00</td>\n",
       "      <td>2009.000000</td>\n",
       "      <td>0.000000</td>\n",
       "    </tr>\n",
       "    <tr>\n",
       "      <th>25%</th>\n",
       "      <td>6.000000</td>\n",
       "      <td>-73.992268</td>\n",
       "      <td>40.736392</td>\n",
       "      <td>-73.991582</td>\n",
       "      <td>40.735190</td>\n",
       "      <td>1.000000</td>\n",
       "      <td>0.780613</td>\n",
       "      <td>4.79</td>\n",
       "      <td>2010.000000</td>\n",
       "      <td>9.000000</td>\n",
       "    </tr>\n",
       "    <tr>\n",
       "      <th>50%</th>\n",
       "      <td>8.500000</td>\n",
       "      <td>-73.982101</td>\n",
       "      <td>40.753281</td>\n",
       "      <td>-73.980500</td>\n",
       "      <td>40.753700</td>\n",
       "      <td>1.000000</td>\n",
       "      <td>1.341699</td>\n",
       "      <td>6.18</td>\n",
       "      <td>2012.000000</td>\n",
       "      <td>14.000000</td>\n",
       "    </tr>\n",
       "    <tr>\n",
       "      <th>75%</th>\n",
       "      <td>12.500000</td>\n",
       "      <td>-73.968310</td>\n",
       "      <td>40.767536</td>\n",
       "      <td>-73.965220</td>\n",
       "      <td>40.768312</td>\n",
       "      <td>2.000000</td>\n",
       "      <td>2.434273</td>\n",
       "      <td>8.22</td>\n",
       "      <td>2013.000000</td>\n",
       "      <td>19.000000</td>\n",
       "    </tr>\n",
       "    <tr>\n",
       "      <th>max</th>\n",
       "      <td>499.000000</td>\n",
       "      <td>40.808425</td>\n",
       "      <td>48.018760</td>\n",
       "      <td>40.831932</td>\n",
       "      <td>45.031598</td>\n",
       "      <td>6.000000</td>\n",
       "      <td>5411.052633</td>\n",
       "      <td>inf</td>\n",
       "      <td>2015.000000</td>\n",
       "      <td>23.000000</td>\n",
       "    </tr>\n",
       "  </tbody>\n",
       "</table>\n",
       "</div>"
      ],
      "text/plain": [
       "         fare_amount  pickup_longitude  pickup_latitude  dropoff_longitude  \\\n",
       "count  196179.000000     196179.000000    196179.000000      196179.000000   \n",
       "mean       11.349921        -73.900813        40.686754         -73.836550   \n",
       "std         9.807117          2.814148         2.650586           3.545197   \n",
       "min         0.010000        -93.824668       -74.015515         -75.458979   \n",
       "25%         6.000000        -73.992268        40.736392         -73.991582   \n",
       "50%         8.500000        -73.982101        40.753281         -73.980500   \n",
       "75%        12.500000        -73.968310        40.767536         -73.965220   \n",
       "max       499.000000         40.808425        48.018760          40.831932   \n",
       "\n",
       "       dropoff_latitude  passenger_count   distance(mi)  fare_per_distance  \\\n",
       "count     196179.000000    196179.000000  196179.000000          196179.00   \n",
       "mean          40.651476         1.684161       7.565867                inf   \n",
       "std            2.908971         1.307714     166.337433                NaN   \n",
       "min          -74.015750         0.000000       0.000000               0.00   \n",
       "25%           40.735190         1.000000       0.780613               4.79   \n",
       "50%           40.753700         1.000000       1.341699               6.18   \n",
       "75%           40.768312         2.000000       2.434273               8.22   \n",
       "max           45.031598         6.000000    5411.052633                inf   \n",
       "\n",
       "                year           hour  \n",
       "count  196179.000000  196179.000000  \n",
       "mean     2011.740691      13.490980  \n",
       "std         1.858772       6.514166  \n",
       "min      2009.000000       0.000000  \n",
       "25%      2010.000000       9.000000  \n",
       "50%      2012.000000      14.000000  \n",
       "75%      2013.000000      19.000000  \n",
       "max      2015.000000      23.000000  "
      ]
     },
     "execution_count": 127,
     "metadata": {},
     "output_type": "execute_result"
    }
   ],
   "source": [
    "uber_cleaned.describe()"
   ]
  },
  {
   "cell_type": "markdown",
   "metadata": {},
   "source": [
    "## More Cleaning"
   ]
  },
  {
   "cell_type": "code",
   "execution_count": 128,
   "metadata": {},
   "outputs": [
    {
     "name": "stdout",
     "output_type": "stream",
     "text": [
      "2044 records that have a distance of less than or equal to 0\n",
      "688 records that has a passenger count less than or equal to 0\n"
     ]
    }
   ],
   "source": [
    "#about 2000 records have a distance of 0\n",
    "#700 records have 0 passengers\n",
    "print(f\"{len(uber_cleaned[uber_cleaned['distance(mi)']<=0])} records that have a distance of less than or equal to 0\")\n",
    "print(f\"{len(uber_cleaned[uber_cleaned['passenger_count']<=0])} records that has a passenger count less than or equal to 0\")"
   ]
  },
  {
   "cell_type": "code",
   "execution_count": 129,
   "metadata": {},
   "outputs": [
    {
     "data": {
      "text/plain": [
       "(191930, 13)"
      ]
     },
     "execution_count": 129,
     "metadata": {},
     "output_type": "execute_result"
    }
   ],
   "source": [
    "uber_cleaned = uber_cleaned[uber_cleaned['distance(mi)']>=0.1]\n",
    "uber_cleaned = uber_cleaned[uber_cleaned['passenger_count']>=1]\n",
    "uber_cleaned.shape"
   ]
  },
  {
   "cell_type": "code",
   "execution_count": 130,
   "metadata": {},
   "outputs": [
    {
     "data": {
      "text/html": [
       "<div>\n",
       "<style scoped>\n",
       "    .dataframe tbody tr th:only-of-type {\n",
       "        vertical-align: middle;\n",
       "    }\n",
       "\n",
       "    .dataframe tbody tr th {\n",
       "        vertical-align: top;\n",
       "    }\n",
       "\n",
       "    .dataframe thead th {\n",
       "        text-align: right;\n",
       "    }\n",
       "</style>\n",
       "<table border=\"1\" class=\"dataframe\">\n",
       "  <thead>\n",
       "    <tr style=\"text-align: right;\">\n",
       "      <th></th>\n",
       "      <th>fare_amount</th>\n",
       "      <th>pickup_longitude</th>\n",
       "      <th>pickup_latitude</th>\n",
       "      <th>dropoff_longitude</th>\n",
       "      <th>dropoff_latitude</th>\n",
       "      <th>passenger_count</th>\n",
       "      <th>distance(mi)</th>\n",
       "      <th>fare_per_distance</th>\n",
       "      <th>year</th>\n",
       "      <th>hour</th>\n",
       "    </tr>\n",
       "  </thead>\n",
       "  <tbody>\n",
       "    <tr>\n",
       "      <th>count</th>\n",
       "      <td>191930.000000</td>\n",
       "      <td>191930.000000</td>\n",
       "      <td>191930.000000</td>\n",
       "      <td>191930.000000</td>\n",
       "      <td>191930.000000</td>\n",
       "      <td>191930.000000</td>\n",
       "      <td>191930.000000</td>\n",
       "      <td>191930.000000</td>\n",
       "      <td>191930.000000</td>\n",
       "      <td>191930.000000</td>\n",
       "    </tr>\n",
       "    <tr>\n",
       "      <th>mean</th>\n",
       "      <td>11.335231</td>\n",
       "      <td>-73.902558</td>\n",
       "      <td>40.687247</td>\n",
       "      <td>-73.837650</td>\n",
       "      <td>40.651611</td>\n",
       "      <td>1.690752</td>\n",
       "      <td>7.670356</td>\n",
       "      <td>7.160029</td>\n",
       "      <td>2011.749805</td>\n",
       "      <td>13.495983</td>\n",
       "    </tr>\n",
       "    <tr>\n",
       "      <th>std</th>\n",
       "      <td>9.525177</td>\n",
       "      <td>2.794481</td>\n",
       "      <td>2.639436</td>\n",
       "      <td>3.536152</td>\n",
       "      <td>2.901330</td>\n",
       "      <td>1.306267</td>\n",
       "      <td>167.266512</td>\n",
       "      <td>7.321416</td>\n",
       "      <td>1.861982</td>\n",
       "      <td>6.514339</td>\n",
       "    </tr>\n",
       "    <tr>\n",
       "      <th>min</th>\n",
       "      <td>0.010000</td>\n",
       "      <td>-93.824668</td>\n",
       "      <td>-74.015515</td>\n",
       "      <td>-75.458979</td>\n",
       "      <td>-74.015750</td>\n",
       "      <td>1.000000</td>\n",
       "      <td>0.100190</td>\n",
       "      <td>0.000000</td>\n",
       "      <td>2009.000000</td>\n",
       "      <td>0.000000</td>\n",
       "    </tr>\n",
       "    <tr>\n",
       "      <th>25%</th>\n",
       "      <td>6.000000</td>\n",
       "      <td>-73.992278</td>\n",
       "      <td>40.736470</td>\n",
       "      <td>-73.991587</td>\n",
       "      <td>40.735264</td>\n",
       "      <td>1.000000</td>\n",
       "      <td>0.807764</td>\n",
       "      <td>4.770000</td>\n",
       "      <td>2010.000000</td>\n",
       "      <td>9.000000</td>\n",
       "    </tr>\n",
       "    <tr>\n",
       "      <th>50%</th>\n",
       "      <td>8.500000</td>\n",
       "      <td>-73.982138</td>\n",
       "      <td>40.753290</td>\n",
       "      <td>-73.980557</td>\n",
       "      <td>40.753722</td>\n",
       "      <td>1.000000</td>\n",
       "      <td>1.366502</td>\n",
       "      <td>6.120000</td>\n",
       "      <td>2012.000000</td>\n",
       "      <td>14.000000</td>\n",
       "    </tr>\n",
       "    <tr>\n",
       "      <th>75%</th>\n",
       "      <td>12.500000</td>\n",
       "      <td>-73.968520</td>\n",
       "      <td>40.767556</td>\n",
       "      <td>-73.965512</td>\n",
       "      <td>40.768327</td>\n",
       "      <td>2.000000</td>\n",
       "      <td>2.470489</td>\n",
       "      <td>8.060000</td>\n",
       "      <td>2013.000000</td>\n",
       "      <td>19.000000</td>\n",
       "    </tr>\n",
       "    <tr>\n",
       "      <th>max</th>\n",
       "      <td>230.000000</td>\n",
       "      <td>40.808425</td>\n",
       "      <td>48.018760</td>\n",
       "      <td>40.831932</td>\n",
       "      <td>42.464187</td>\n",
       "      <td>6.000000</td>\n",
       "      <td>5411.052633</td>\n",
       "      <td>963.250000</td>\n",
       "      <td>2015.000000</td>\n",
       "      <td>23.000000</td>\n",
       "    </tr>\n",
       "  </tbody>\n",
       "</table>\n",
       "</div>"
      ],
      "text/plain": [
       "         fare_amount  pickup_longitude  pickup_latitude  dropoff_longitude  \\\n",
       "count  191930.000000     191930.000000    191930.000000      191930.000000   \n",
       "mean       11.335231        -73.902558        40.687247         -73.837650   \n",
       "std         9.525177          2.794481         2.639436           3.536152   \n",
       "min         0.010000        -93.824668       -74.015515         -75.458979   \n",
       "25%         6.000000        -73.992278        40.736470         -73.991587   \n",
       "50%         8.500000        -73.982138        40.753290         -73.980557   \n",
       "75%        12.500000        -73.968520        40.767556         -73.965512   \n",
       "max       230.000000         40.808425        48.018760          40.831932   \n",
       "\n",
       "       dropoff_latitude  passenger_count   distance(mi)  fare_per_distance  \\\n",
       "count     191930.000000    191930.000000  191930.000000      191930.000000   \n",
       "mean          40.651611         1.690752       7.670356           7.160029   \n",
       "std            2.901330         1.306267     167.266512           7.321416   \n",
       "min          -74.015750         1.000000       0.100190           0.000000   \n",
       "25%           40.735264         1.000000       0.807764           4.770000   \n",
       "50%           40.753722         1.000000       1.366502           6.120000   \n",
       "75%           40.768327         2.000000       2.470489           8.060000   \n",
       "max           42.464187         6.000000    5411.052633         963.250000   \n",
       "\n",
       "                year           hour  \n",
       "count  191930.000000  191930.000000  \n",
       "mean     2011.749805      13.495983  \n",
       "std         1.861982       6.514339  \n",
       "min      2009.000000       0.000000  \n",
       "25%      2010.000000       9.000000  \n",
       "50%      2012.000000      14.000000  \n",
       "75%      2013.000000      19.000000  \n",
       "max      2015.000000      23.000000  "
      ]
     },
     "execution_count": 130,
     "metadata": {},
     "output_type": "execute_result"
    }
   ],
   "source": [
    "uber_cleaned.describe()"
   ]
  },
  {
   "cell_type": "code",
   "execution_count": 131,
   "metadata": {},
   "outputs": [],
   "source": [
    "# creating the log of fare_amount and fare rate\n",
    "uber_cleaned[\"log_fare_per_distance\"] = np.log(uber_cleaned[\"fare_per_distance\"])\n",
    "uber_cleaned[\"log_fare_amount\"] = np.log(uber_cleaned[\"fare_amount\"])"
   ]
  },
  {
   "cell_type": "code",
   "execution_count": 132,
   "metadata": {},
   "outputs": [
    {
     "data": {
      "text/html": [
       "<div>\n",
       "<style scoped>\n",
       "    .dataframe tbody tr th:only-of-type {\n",
       "        vertical-align: middle;\n",
       "    }\n",
       "\n",
       "    .dataframe tbody tr th {\n",
       "        vertical-align: top;\n",
       "    }\n",
       "\n",
       "    .dataframe thead th {\n",
       "        text-align: right;\n",
       "    }\n",
       "</style>\n",
       "<table border=\"1\" class=\"dataframe\">\n",
       "  <thead>\n",
       "    <tr style=\"text-align: right;\">\n",
       "      <th></th>\n",
       "      <th>fare_amount</th>\n",
       "      <th>pickup_datetime</th>\n",
       "      <th>pickup_longitude</th>\n",
       "      <th>pickup_latitude</th>\n",
       "      <th>dropoff_longitude</th>\n",
       "      <th>dropoff_latitude</th>\n",
       "      <th>passenger_count</th>\n",
       "      <th>distance(mi)</th>\n",
       "      <th>fare_per_distance</th>\n",
       "      <th>year</th>\n",
       "      <th>month</th>\n",
       "      <th>day_of_week</th>\n",
       "      <th>hour</th>\n",
       "      <th>log_fare_per_distance</th>\n",
       "      <th>log_fare_amount</th>\n",
       "    </tr>\n",
       "  </thead>\n",
       "  <tbody>\n",
       "    <tr>\n",
       "      <th>0</th>\n",
       "      <td>7.5</td>\n",
       "      <td>2015-05-07 19:52:06 UTC</td>\n",
       "      <td>-73.999817</td>\n",
       "      <td>40.738354</td>\n",
       "      <td>-73.999512</td>\n",
       "      <td>40.723217</td>\n",
       "      <td>1</td>\n",
       "      <td>1.045970</td>\n",
       "      <td>7.17</td>\n",
       "      <td>2015</td>\n",
       "      <td>May</td>\n",
       "      <td>Thursday</td>\n",
       "      <td>19</td>\n",
       "      <td>1.969906</td>\n",
       "      <td>2.014903</td>\n",
       "    </tr>\n",
       "    <tr>\n",
       "      <th>1</th>\n",
       "      <td>7.7</td>\n",
       "      <td>2009-07-17 20:04:56 UTC</td>\n",
       "      <td>-73.994355</td>\n",
       "      <td>40.728225</td>\n",
       "      <td>-73.994710</td>\n",
       "      <td>40.750325</td>\n",
       "      <td>1</td>\n",
       "      <td>1.527078</td>\n",
       "      <td>5.04</td>\n",
       "      <td>2009</td>\n",
       "      <td>Jul</td>\n",
       "      <td>Friday</td>\n",
       "      <td>20</td>\n",
       "      <td>1.617406</td>\n",
       "      <td>2.041220</td>\n",
       "    </tr>\n",
       "    <tr>\n",
       "      <th>2</th>\n",
       "      <td>12.9</td>\n",
       "      <td>2009-08-24 21:45:00 UTC</td>\n",
       "      <td>-74.005043</td>\n",
       "      <td>40.740770</td>\n",
       "      <td>-73.962565</td>\n",
       "      <td>40.772647</td>\n",
       "      <td>1</td>\n",
       "      <td>3.129464</td>\n",
       "      <td>4.12</td>\n",
       "      <td>2009</td>\n",
       "      <td>Aug</td>\n",
       "      <td>Monday</td>\n",
       "      <td>21</td>\n",
       "      <td>1.415853</td>\n",
       "      <td>2.557227</td>\n",
       "    </tr>\n",
       "    <tr>\n",
       "      <th>3</th>\n",
       "      <td>5.3</td>\n",
       "      <td>2009-06-26 08:22:21 UTC</td>\n",
       "      <td>-73.976124</td>\n",
       "      <td>40.790844</td>\n",
       "      <td>-73.965316</td>\n",
       "      <td>40.803349</td>\n",
       "      <td>3</td>\n",
       "      <td>1.032524</td>\n",
       "      <td>5.13</td>\n",
       "      <td>2009</td>\n",
       "      <td>Jun</td>\n",
       "      <td>Friday</td>\n",
       "      <td>8</td>\n",
       "      <td>1.635106</td>\n",
       "      <td>1.667707</td>\n",
       "    </tr>\n",
       "    <tr>\n",
       "      <th>4</th>\n",
       "      <td>16.0</td>\n",
       "      <td>2014-08-28 17:47:00 UTC</td>\n",
       "      <td>-73.925023</td>\n",
       "      <td>40.744085</td>\n",
       "      <td>-73.973082</td>\n",
       "      <td>40.761247</td>\n",
       "      <td>5</td>\n",
       "      <td>2.780920</td>\n",
       "      <td>5.75</td>\n",
       "      <td>2014</td>\n",
       "      <td>Aug</td>\n",
       "      <td>Thursday</td>\n",
       "      <td>17</td>\n",
       "      <td>1.749200</td>\n",
       "      <td>2.772589</td>\n",
       "    </tr>\n",
       "  </tbody>\n",
       "</table>\n",
       "</div>"
      ],
      "text/plain": [
       "   fare_amount          pickup_datetime  pickup_longitude  pickup_latitude  \\\n",
       "0          7.5  2015-05-07 19:52:06 UTC        -73.999817        40.738354   \n",
       "1          7.7  2009-07-17 20:04:56 UTC        -73.994355        40.728225   \n",
       "2         12.9  2009-08-24 21:45:00 UTC        -74.005043        40.740770   \n",
       "3          5.3  2009-06-26 08:22:21 UTC        -73.976124        40.790844   \n",
       "4         16.0  2014-08-28 17:47:00 UTC        -73.925023        40.744085   \n",
       "\n",
       "   dropoff_longitude  dropoff_latitude  passenger_count  distance(mi)  \\\n",
       "0         -73.999512         40.723217                1      1.045970   \n",
       "1         -73.994710         40.750325                1      1.527078   \n",
       "2         -73.962565         40.772647                1      3.129464   \n",
       "3         -73.965316         40.803349                3      1.032524   \n",
       "4         -73.973082         40.761247                5      2.780920   \n",
       "\n",
       "   fare_per_distance  year month day_of_week  hour  log_fare_per_distance  \\\n",
       "0               7.17  2015   May    Thursday    19               1.969906   \n",
       "1               5.04  2009   Jul      Friday    20               1.617406   \n",
       "2               4.12  2009   Aug      Monday    21               1.415853   \n",
       "3               5.13  2009   Jun      Friday     8               1.635106   \n",
       "4               5.75  2014   Aug    Thursday    17               1.749200   \n",
       "\n",
       "   log_fare_amount  \n",
       "0         2.014903  \n",
       "1         2.041220  \n",
       "2         2.557227  \n",
       "3         1.667707  \n",
       "4         2.772589  "
      ]
     },
     "execution_count": 132,
     "metadata": {},
     "output_type": "execute_result"
    }
   ],
   "source": [
    "uber_cleaned.head()"
   ]
  },
  {
   "cell_type": "markdown",
   "metadata": {},
   "source": [
    "# Data Explorations"
   ]
  },
  {
   "cell_type": "code",
   "execution_count": 133,
   "metadata": {},
   "outputs": [
    {
     "data": {
      "text/plain": [
       "<AxesSubplot: xlabel='fare_amount', ylabel='distance(mi)'>"
      ]
     },
     "execution_count": 133,
     "metadata": {},
     "output_type": "execute_result"
    },
    {
     "data": {
      "image/png": "[encoded data removed]",
      "text/plain": [
       "<Figure size 864x720 with 2 Axes>"
      ]
     },
     "metadata": {
      "needs_background": "light"
     },
     "output_type": "display_data"
    }
   ],
   "source": [
    "fig, ax = plt.subplots(1,2, figsize =(12,10))\n",
    "fig.suptitle('Distance vs log fare amount and original fare amount', fontsize=24, y=0.9)\n",
    "fig.tight_layout(pad=5.0)\n",
    "\n",
    "sns.scatterplot(uber_cleaned, x=\"log_fare_amount\", y=\"distance(mi)\", alpha=0.5,\n",
    "                ax=ax[0])\n",
    "sns.scatterplot(uber_cleaned, x=\"fare_amount\", y=\"distance(mi)\", alpha=0.5,\n",
    "                ax=ax[1])"
   ]
  },
  {
   "cell_type": "code",
   "execution_count": 134,
   "metadata": {},
   "outputs": [
    {
     "data": {
      "text/plain": [
       "<AxesSubplot: xlabel='fare_amount', ylabel='Count'>"
      ]
     },
     "execution_count": 134,
     "metadata": {},
     "output_type": "execute_result"
    },
    {
     "data": {
      "image/png": "[encoded data removed]",
      "text/plain": [
       "<Figure size 864x720 with 2 Axes>"
      ]
     },
     "metadata": {
      "needs_background": "light"
     },
     "output_type": "display_data"
    }
   ],
   "source": [
    "fig, ax = plt.subplots(1,2, figsize =(12,10))\n",
    "fig.suptitle(\"Log fare_amount and Original fare_amount\", fontsize=24, y=0.9)\n",
    "fig.tight_layout(pad=5.0)\n",
    "\n",
    "sns.histplot(uber_cleaned, x=\"log_fare_amount\", bins=70, ax=ax[0])\n",
    "sns.histplot(uber_cleaned, x = \"fare_amount\", bins=70, ax=ax[1])"
   ]
  },
  {
   "cell_type": "markdown",
   "metadata": {},
   "source": [
    "The log of the fare_amount has a better distribution"
   ]
  },
  {
   "cell_type": "code",
   "execution_count": 135,
   "metadata": {},
   "outputs": [
    {
     "data": {
      "image/png": "[encoded data removed]",
      "text/plain": [
       "<Figure size 864x720 with 4 Axes>"
      ]
     },
     "metadata": {
      "needs_background": "light"
     },
     "output_type": "display_data"
    }
   ],
   "source": [
    "fig, ax = plt.subplots(2,2, figsize =(12,10))\n",
    "fig.suptitle('Histogram of Trips Counts', fontsize=24, y=0.9)\n",
    "fig.tight_layout(pad=5.0)\n",
    "\n",
    "sns.countplot(uber_cleaned, x = \"month\", ax=ax[0,0], ).set(title = \"Trips by Month\")\n",
    "sns.countplot(uber_cleaned, x=\"day_of_week\", ax=ax[0,1]).set(title = \"Trips by Day of Week\")\n",
    "sns.countplot(uber_cleaned, x=\"hour\", ax=ax[1,0]).set(title = \"Trips by Hour\")\n",
    "sns.countplot(uber_cleaned, x=\"year\", ax=ax[1,1]).set(title = \"Trips by Year\")\n",
    "\n",
    "\n",
    "plt.show()"
   ]
  },
  {
   "cell_type": "markdown",
   "metadata": {},
   "source": [
    "Majority of the record are fairly distributed across the diffrent points in time"
   ]
  },
  {
   "cell_type": "code",
   "execution_count": 136,
   "metadata": {},
   "outputs": [
    {
     "data": {
      "text/plain": [
       "<AxesSubplot: >"
      ]
     },
     "execution_count": 136,
     "metadata": {},
     "output_type": "execute_result"
    },
    {
     "data": {
      "image/png": "[encoded data removed]",
      "text/plain": [
       "<Figure size 432x288 with 2 Axes>"
      ]
     },
     "metadata": {
      "needs_background": "light"
     },
     "output_type": "display_data"
    }
   ],
   "source": [
    "sns.heatmap(uber_cleaned.corr())"
   ]
  },
  {
   "cell_type": "markdown",
   "metadata": {},
   "source": [
    "### Plot Trips by Location"
   ]
  },
  {
   "cell_type": "code",
   "execution_count": 137,
   "metadata": {},
   "outputs": [
    {
     "data": {
      "image/png": "[encoded data removed]",
      "text/plain": [
       "<Figure size 720x432 with 1 Axes>"
      ]
     },
     "metadata": {
      "needs_background": "light"
     },
     "output_type": "display_data"
    }
   ],
   "source": [
    "from shapely.geometry import Point\n",
    "import geopandas as gpd\n",
    "from geopandas import GeoDataFrame\n",
    "\n",
    "world = gpd.read_file(gpd.datasets.get_path('naturalearth_lowres'))\n",
    "geometry_pickup = [Point(xy) for xy in zip(uber_cleaned.pickup_longitude, uber_cleaned.pickup_latitude)]\n",
    "geometry_dropoff = [Point(xy) for xy in zip(uber_cleaned.dropoff_longitude, uber_cleaned.dropoff_latitude)]\n",
    "\n",
    "gdf = GeoDataFrame(uber_cleaned, geometry=geometry_pickup)   \n",
    "gdf.plot(ax=world.plot(figsize=(10, 6), linewidth=1, edgecolor='white', color='lightgrey'), marker='o', color='red', markersize=5);\n"
   ]
  },
  {
   "cell_type": "markdown",
   "metadata": {},
   "source": [
    "Here we see the location for each record based off of the pick up variables. The points within the United States will be the main focus "
   ]
  },
  {
   "cell_type": "code",
   "execution_count": 138,
   "metadata": {},
   "outputs": [
    {
     "data": {
      "text/plain": [
       "(191601, 16)"
      ]
     },
     "execution_count": 138,
     "metadata": {},
     "output_type": "execute_result"
    }
   ],
   "source": [
    "# Remove data with invalid location information\n",
    "uber_usa = uber_cleaned.copy()\n",
    "uber_usa = uber_usa[(uber_usa['pickup_latitude'] > 20) & (uber_usa['pickup_latitude'] < 55)]\n",
    "uber_usa = uber_usa[(uber_usa['dropoff_latitude'] > 20) & (uber_usa['dropoff_latitude'] < 55)]\n",
    "uber_usa = uber_usa[(uber_usa['pickup_longitude'] > -125) & (uber_usa['pickup_longitude'] < -50)]\n",
    "uber_usa = uber_usa[(uber_usa['dropoff_longitude'] > -125) & (uber_usa['dropoff_longitude'] < -50)]\n",
    "\n",
    "\n",
    "uber_usa.shape"
   ]
  },
  {
   "cell_type": "code",
   "execution_count": 139,
   "metadata": {},
   "outputs": [
    {
     "data": {
      "image/png": "[encoded data removed]",
      "text/plain": [
       "<Figure size 576x432 with 1 Axes>"
      ]
     },
     "metadata": {
      "needs_background": "light"
     },
     "output_type": "display_data"
    }
   ],
   "source": [
    "geometry = [Point(xy) for xy in zip(uber_usa.pickup_longitude, uber_usa.pickup_latitude)]\n",
    "gdf = GeoDataFrame(uber_usa, geometry=geometry)   \n",
    "\n",
    "states = gpd.read_file('geopandas-tutorial/data/usa-states-census-2014.shp')\n",
    "gdf.plot(ax=states.plot(figsize=(8, 6), linewidth=1, edgecolor='white', color='lightgrey'), marker='o', color='red', markersize=5);"
   ]
  },
  {
   "cell_type": "markdown",
   "metadata": {},
   "source": [
    "Majority of the USA coordinates are in New York or New Jersey"
   ]
  },
  {
   "cell_type": "markdown",
   "metadata": {},
   "source": [
    "# Preparing for the Model"
   ]
  },
  {
   "cell_type": "code",
   "execution_count": 140,
   "metadata": {},
   "outputs": [
    {
     "name": "stdout",
     "output_type": "stream",
     "text": [
      "[1.00e-02 6.00e+00 8.50e+00 1.25e+01 2.30e+02]\n",
      "[-4.60517019  1.79175947  2.14006616  2.52572864  5.43807931]\n",
      "[  0.     4.77   6.13   8.06 963.25]\n",
      "[       nan 1.5623463  1.81319475 2.08691356 6.87031298]\n"
     ]
    }
   ],
   "source": [
    "q_fare_amount = np.quantile(uber_usa['fare_amount'], [0,0.25,0.5,0.75,1])\n",
    "print(q_fare_amount)\n",
    "q_log_fare = np.quantile(uber_usa['log_fare_amount'], [0,0.25,0.5,0.75,1])\n",
    "print(q_log_fare)\n",
    "q_fare_per_distance = np.quantile(uber_usa['fare_per_distance'], [0,0.25,0.5,0.75,1])\n",
    "print(q_fare_per_distance)\n",
    "q_log_fare_per_distance = np.quantile(uber_usa['log_fare_per_distance'], [0,0.25,0.5,0.75,1])\n",
    "print(q_log_fare_per_distance)"
   ]
  },
  {
   "cell_type": "markdown",
   "metadata": {},
   "source": [
    "Determining what to bin based off the spread between the fare amount and fare rate"
   ]
  },
  {
   "cell_type": "code",
   "execution_count": 141,
   "metadata": {},
   "outputs": [
    {
     "data": {
      "text/html": [
       "<div>\n",
       "<style scoped>\n",
       "    .dataframe tbody tr th:only-of-type {\n",
       "        vertical-align: middle;\n",
       "    }\n",
       "\n",
       "    .dataframe tbody tr th {\n",
       "        vertical-align: top;\n",
       "    }\n",
       "\n",
       "    .dataframe thead th {\n",
       "        text-align: right;\n",
       "    }\n",
       "</style>\n",
       "<table border=\"1\" class=\"dataframe\">\n",
       "  <thead>\n",
       "    <tr style=\"text-align: right;\">\n",
       "      <th></th>\n",
       "      <th>log_fare_amount</th>\n",
       "      <th>log_fare_bin</th>\n",
       "    </tr>\n",
       "  </thead>\n",
       "  <tbody>\n",
       "    <tr>\n",
       "      <th>0</th>\n",
       "      <td>2.014903</td>\n",
       "      <td>med</td>\n",
       "    </tr>\n",
       "    <tr>\n",
       "      <th>1</th>\n",
       "      <td>2.041220</td>\n",
       "      <td>med</td>\n",
       "    </tr>\n",
       "    <tr>\n",
       "      <th>2</th>\n",
       "      <td>2.557227</td>\n",
       "      <td>high</td>\n",
       "    </tr>\n",
       "    <tr>\n",
       "      <th>3</th>\n",
       "      <td>1.667707</td>\n",
       "      <td>low</td>\n",
       "    </tr>\n",
       "    <tr>\n",
       "      <th>4</th>\n",
       "      <td>2.772589</td>\n",
       "      <td>high</td>\n",
       "    </tr>\n",
       "  </tbody>\n",
       "</table>\n",
       "</div>"
      ],
      "text/plain": [
       "   log_fare_amount log_fare_bin\n",
       "0         2.014903          med\n",
       "1         2.041220          med\n",
       "2         2.557227         high\n",
       "3         1.667707          low\n",
       "4         2.772589         high"
      ]
     },
     "execution_count": 141,
     "metadata": {},
     "output_type": "execute_result"
    }
   ],
   "source": [
    "# fare_amount = uber_usa.fare_amount\n",
    "log_fare_amount = uber_usa.log_fare_amount\n",
    "# fare_bin = pd.qcut(fare_amount, [0.,0.33,0.66,1], labels = [\"low\",\"med\",\"high\"])\n",
    "log_fare_bin = pd.qcut(log_fare_amount, [0.,0.33,0.66,1], labels = [\"low\",\"med\",\"high\"])\n",
    "log_fare_bin = pd.Series(log_fare_bin, name = \"log_fare_bin\")\n",
    "# fare_bin = pd.Series(fare_bin, name=\"fare_bin\")\n",
    "# uber_fare = pd.concat([fare_amount,fare_bin], axis=1)\n",
    "uber_fare = pd.concat([log_fare_amount,log_fare_bin], axis=1)\n",
    "uber_fare.head()"
   ]
  },
  {
   "cell_type": "code",
   "execution_count": 142,
   "metadata": {},
   "outputs": [
    {
     "data": {
      "text/html": [
       "<div>\n",
       "<style scoped>\n",
       "    .dataframe tbody tr th:only-of-type {\n",
       "        vertical-align: middle;\n",
       "    }\n",
       "\n",
       "    .dataframe tbody tr th {\n",
       "        vertical-align: top;\n",
       "    }\n",
       "\n",
       "    .dataframe thead th {\n",
       "        text-align: right;\n",
       "    }\n",
       "</style>\n",
       "<table border=\"1\" class=\"dataframe\">\n",
       "  <thead>\n",
       "    <tr style=\"text-align: right;\">\n",
       "      <th></th>\n",
       "      <th>fare_amount</th>\n",
       "      <th>pickup_datetime</th>\n",
       "      <th>pickup_longitude</th>\n",
       "      <th>pickup_latitude</th>\n",
       "      <th>dropoff_longitude</th>\n",
       "      <th>dropoff_latitude</th>\n",
       "      <th>passenger_count</th>\n",
       "      <th>distance(mi)</th>\n",
       "      <th>fare_per_distance</th>\n",
       "      <th>year</th>\n",
       "      <th>month</th>\n",
       "      <th>day_of_week</th>\n",
       "      <th>hour</th>\n",
       "      <th>log_fare_per_distance</th>\n",
       "      <th>log_fare_amount</th>\n",
       "      <th>geometry</th>\n",
       "      <th>log_fare_bin</th>\n",
       "    </tr>\n",
       "  </thead>\n",
       "  <tbody>\n",
       "    <tr>\n",
       "      <th>0</th>\n",
       "      <td>7.5</td>\n",
       "      <td>2015-05-07 19:52:06 UTC</td>\n",
       "      <td>-73.999817</td>\n",
       "      <td>40.738354</td>\n",
       "      <td>-73.999512</td>\n",
       "      <td>40.723217</td>\n",
       "      <td>1</td>\n",
       "      <td>1.045970</td>\n",
       "      <td>7.17</td>\n",
       "      <td>2015</td>\n",
       "      <td>May</td>\n",
       "      <td>Thursday</td>\n",
       "      <td>19</td>\n",
       "      <td>1.969906</td>\n",
       "      <td>2.014903</td>\n",
       "      <td>POINT (-73.99982 40.73835)</td>\n",
       "      <td>med</td>\n",
       "    </tr>\n",
       "    <tr>\n",
       "      <th>1</th>\n",
       "      <td>7.7</td>\n",
       "      <td>2009-07-17 20:04:56 UTC</td>\n",
       "      <td>-73.994355</td>\n",
       "      <td>40.728225</td>\n",
       "      <td>-73.994710</td>\n",
       "      <td>40.750325</td>\n",
       "      <td>1</td>\n",
       "      <td>1.527078</td>\n",
       "      <td>5.04</td>\n",
       "      <td>2009</td>\n",
       "      <td>Jul</td>\n",
       "      <td>Friday</td>\n",
       "      <td>20</td>\n",
       "      <td>1.617406</td>\n",
       "      <td>2.041220</td>\n",
       "      <td>POINT (-73.99435 40.72823)</td>\n",
       "      <td>med</td>\n",
       "    </tr>\n",
       "    <tr>\n",
       "      <th>2</th>\n",
       "      <td>12.9</td>\n",
       "      <td>2009-08-24 21:45:00 UTC</td>\n",
       "      <td>-74.005043</td>\n",
       "      <td>40.740770</td>\n",
       "      <td>-73.962565</td>\n",
       "      <td>40.772647</td>\n",
       "      <td>1</td>\n",
       "      <td>3.129464</td>\n",
       "      <td>4.12</td>\n",
       "      <td>2009</td>\n",
       "      <td>Aug</td>\n",
       "      <td>Monday</td>\n",
       "      <td>21</td>\n",
       "      <td>1.415853</td>\n",
       "      <td>2.557227</td>\n",
       "      <td>POINT (-74.00504 40.74077)</td>\n",
       "      <td>high</td>\n",
       "    </tr>\n",
       "    <tr>\n",
       "      <th>3</th>\n",
       "      <td>5.3</td>\n",
       "      <td>2009-06-26 08:22:21 UTC</td>\n",
       "      <td>-73.976124</td>\n",
       "      <td>40.790844</td>\n",
       "      <td>-73.965316</td>\n",
       "      <td>40.803349</td>\n",
       "      <td>3</td>\n",
       "      <td>1.032524</td>\n",
       "      <td>5.13</td>\n",
       "      <td>2009</td>\n",
       "      <td>Jun</td>\n",
       "      <td>Friday</td>\n",
       "      <td>8</td>\n",
       "      <td>1.635106</td>\n",
       "      <td>1.667707</td>\n",
       "      <td>POINT (-73.97612 40.79084)</td>\n",
       "      <td>low</td>\n",
       "    </tr>\n",
       "    <tr>\n",
       "      <th>4</th>\n",
       "      <td>16.0</td>\n",
       "      <td>2014-08-28 17:47:00 UTC</td>\n",
       "      <td>-73.925023</td>\n",
       "      <td>40.744085</td>\n",
       "      <td>-73.973082</td>\n",
       "      <td>40.761247</td>\n",
       "      <td>5</td>\n",
       "      <td>2.780920</td>\n",
       "      <td>5.75</td>\n",
       "      <td>2014</td>\n",
       "      <td>Aug</td>\n",
       "      <td>Thursday</td>\n",
       "      <td>17</td>\n",
       "      <td>1.749200</td>\n",
       "      <td>2.772589</td>\n",
       "      <td>POINT (-73.92502 40.74408)</td>\n",
       "      <td>high</td>\n",
       "    </tr>\n",
       "  </tbody>\n",
       "</table>\n",
       "</div>"
      ],
      "text/plain": [
       "   fare_amount          pickup_datetime  pickup_longitude  pickup_latitude  \\\n",
       "0          7.5  2015-05-07 19:52:06 UTC        -73.999817        40.738354   \n",
       "1          7.7  2009-07-17 20:04:56 UTC        -73.994355        40.728225   \n",
       "2         12.9  2009-08-24 21:45:00 UTC        -74.005043        40.740770   \n",
       "3          5.3  2009-06-26 08:22:21 UTC        -73.976124        40.790844   \n",
       "4         16.0  2014-08-28 17:47:00 UTC        -73.925023        40.744085   \n",
       "\n",
       "   dropoff_longitude  dropoff_latitude  passenger_count  distance(mi)  \\\n",
       "0         -73.999512         40.723217                1      1.045970   \n",
       "1         -73.994710         40.750325                1      1.527078   \n",
       "2         -73.962565         40.772647                1      3.129464   \n",
       "3         -73.965316         40.803349                3      1.032524   \n",
       "4         -73.973082         40.761247                5      2.780920   \n",
       "\n",
       "   fare_per_distance  year month day_of_week  hour  log_fare_per_distance  \\\n",
       "0               7.17  2015   May    Thursday    19               1.969906   \n",
       "1               5.04  2009   Jul      Friday    20               1.617406   \n",
       "2               4.12  2009   Aug      Monday    21               1.415853   \n",
       "3               5.13  2009   Jun      Friday     8               1.635106   \n",
       "4               5.75  2014   Aug    Thursday    17               1.749200   \n",
       "\n",
       "   log_fare_amount                    geometry log_fare_bin  \n",
       "0         2.014903  POINT (-73.99982 40.73835)          med  \n",
       "1         2.041220  POINT (-73.99435 40.72823)          med  \n",
       "2         2.557227  POINT (-74.00504 40.74077)         high  \n",
       "3         1.667707  POINT (-73.97612 40.79084)          low  \n",
       "4         2.772589  POINT (-73.92502 40.74408)         high  "
      ]
     },
     "execution_count": 142,
     "metadata": {},
     "output_type": "execute_result"
    }
   ],
   "source": [
    "uber_usa = pd.concat([uber_usa, log_fare_bin], axis=1)\n",
    "uber_usa.head()"
   ]
  },
  {
   "cell_type": "code",
   "execution_count": 143,
   "metadata": {},
   "outputs": [
    {
     "data": {
      "text/plain": [
       "<AxesSubplot: xlabel='log_fare_bin', ylabel='count'>"
      ]
     },
     "execution_count": 143,
     "metadata": {},
     "output_type": "execute_result"
    },
    {
     "data": {
      "image/png": "[encoded data removed]",
      "text/plain": [
       "<Figure size 432x288 with 1 Axes>"
      ]
     },
     "metadata": {
      "needs_background": "light"
     },
     "output_type": "display_data"
    }
   ],
   "source": [
    "sns.countplot(data=uber_usa, x=\"log_fare_bin\")"
   ]
  },
  {
   "cell_type": "markdown",
   "metadata": {},
   "source": [
    "It appears the price amounts are fairly distributed"
   ]
  },
  {
   "cell_type": "code",
   "execution_count": 144,
   "metadata": {},
   "outputs": [
    {
     "data": {
      "text/plain": [
       "['fare_amount',\n",
       " 'pickup_datetime',\n",
       " 'pickup_longitude',\n",
       " 'pickup_latitude',\n",
       " 'dropoff_longitude',\n",
       " 'dropoff_latitude',\n",
       " 'passenger_count',\n",
       " 'distance(mi)',\n",
       " 'fare_per_distance',\n",
       " 'year',\n",
       " 'month',\n",
       " 'day_of_week',\n",
       " 'hour',\n",
       " 'log_fare_per_distance',\n",
       " 'log_fare_amount',\n",
       " 'geometry',\n",
       " 'log_fare_bin']"
      ]
     },
     "execution_count": 144,
     "metadata": {},
     "output_type": "execute_result"
    }
   ],
   "source": [
    "uber_usa.columns.tolist()"
   ]
  },
  {
   "cell_type": "code",
   "execution_count": 145,
   "metadata": {},
   "outputs": [
    {
     "data": {
      "text/html": [
       "<div>\n",
       "<style scoped>\n",
       "    .dataframe tbody tr th:only-of-type {\n",
       "        vertical-align: middle;\n",
       "    }\n",
       "\n",
       "    .dataframe tbody tr th {\n",
       "        vertical-align: top;\n",
       "    }\n",
       "\n",
       "    .dataframe thead th {\n",
       "        text-align: right;\n",
       "    }\n",
       "</style>\n",
       "<table border=\"1\" class=\"dataframe\">\n",
       "  <thead>\n",
       "    <tr style=\"text-align: right;\">\n",
       "      <th></th>\n",
       "      <th>fare_amount</th>\n",
       "      <th>passenger_count</th>\n",
       "      <th>distance(mi)</th>\n",
       "      <th>fare_per_distance</th>\n",
       "      <th>month</th>\n",
       "      <th>day_of_week</th>\n",
       "      <th>hour</th>\n",
       "      <th>log_fare_bin</th>\n",
       "    </tr>\n",
       "  </thead>\n",
       "  <tbody>\n",
       "    <tr>\n",
       "      <th>0</th>\n",
       "      <td>7.5</td>\n",
       "      <td>1</td>\n",
       "      <td>1.045970</td>\n",
       "      <td>7.17</td>\n",
       "      <td>May</td>\n",
       "      <td>Thursday</td>\n",
       "      <td>19</td>\n",
       "      <td>med</td>\n",
       "    </tr>\n",
       "    <tr>\n",
       "      <th>1</th>\n",
       "      <td>7.7</td>\n",
       "      <td>1</td>\n",
       "      <td>1.527078</td>\n",
       "      <td>5.04</td>\n",
       "      <td>Jul</td>\n",
       "      <td>Friday</td>\n",
       "      <td>20</td>\n",
       "      <td>med</td>\n",
       "    </tr>\n",
       "    <tr>\n",
       "      <th>2</th>\n",
       "      <td>12.9</td>\n",
       "      <td>1</td>\n",
       "      <td>3.129464</td>\n",
       "      <td>4.12</td>\n",
       "      <td>Aug</td>\n",
       "      <td>Monday</td>\n",
       "      <td>21</td>\n",
       "      <td>high</td>\n",
       "    </tr>\n",
       "    <tr>\n",
       "      <th>3</th>\n",
       "      <td>5.3</td>\n",
       "      <td>3</td>\n",
       "      <td>1.032524</td>\n",
       "      <td>5.13</td>\n",
       "      <td>Jun</td>\n",
       "      <td>Friday</td>\n",
       "      <td>8</td>\n",
       "      <td>low</td>\n",
       "    </tr>\n",
       "    <tr>\n",
       "      <th>4</th>\n",
       "      <td>16.0</td>\n",
       "      <td>5</td>\n",
       "      <td>2.780920</td>\n",
       "      <td>5.75</td>\n",
       "      <td>Aug</td>\n",
       "      <td>Thursday</td>\n",
       "      <td>17</td>\n",
       "      <td>high</td>\n",
       "    </tr>\n",
       "  </tbody>\n",
       "</table>\n",
       "</div>"
      ],
      "text/plain": [
       "   fare_amount  passenger_count  distance(mi)  fare_per_distance month  \\\n",
       "0          7.5                1      1.045970               7.17   May   \n",
       "1          7.7                1      1.527078               5.04   Jul   \n",
       "2         12.9                1      3.129464               4.12   Aug   \n",
       "3          5.3                3      1.032524               5.13   Jun   \n",
       "4         16.0                5      2.780920               5.75   Aug   \n",
       "\n",
       "  day_of_week  hour log_fare_bin  \n",
       "0    Thursday    19          med  \n",
       "1      Friday    20          med  \n",
       "2      Monday    21         high  \n",
       "3      Friday     8          low  \n",
       "4    Thursday    17         high  "
      ]
     },
     "execution_count": 145,
     "metadata": {},
     "output_type": "execute_result"
    }
   ],
   "source": [
    "uber_final = uber_usa[['fare_amount','passenger_count','distance(mi)','fare_per_distance','month','day_of_week','hour','log_fare_bin']]\n",
    "uber_final.head()"
   ]
  },
  {
   "cell_type": "code",
   "execution_count": 146,
   "metadata": {},
   "outputs": [
    {
     "data": {
      "text/plain": [
       "fare_amount           float64\n",
       "passenger_count         int64\n",
       "distance(mi)          float64\n",
       "fare_per_distance     float64\n",
       "month                  object\n",
       "day_of_week            object\n",
       "hour                    int64\n",
       "log_fare_bin         category\n",
       "dtype: object"
      ]
     },
     "execution_count": 146,
     "metadata": {},
     "output_type": "execute_result"
    }
   ],
   "source": [
    "uber_final.dtypes"
   ]
  },
  {
   "cell_type": "code",
   "execution_count": 147,
   "metadata": {},
   "outputs": [
    {
     "data": {
      "text/plain": [
       "fare_amount           float64\n",
       "passenger_count         int64\n",
       "distance(mi)          float64\n",
       "fare_per_distance     float64\n",
       "month                category\n",
       "day_of_week          category\n",
       "hour                 category\n",
       "log_fare_bin         category\n",
       "dtype: object"
      ]
     },
     "execution_count": 147,
     "metadata": {},
     "output_type": "execute_result"
    }
   ],
   "source": [
    "uber_final = uber_final.astype({'month':'category',\n",
    "                   'day_of_week':'category',\n",
    "                   'hour':'category'})\n",
    "uber_final.dtypes"
   ]
  },
  {
   "cell_type": "code",
   "execution_count": 148,
   "metadata": {},
   "outputs": [],
   "source": [
    "from sklearn.discriminant_analysis import LinearDiscriminantAnalysis\n",
    "from sklearn.model_selection import GridSearchCV\n",
    "from sklearn.model_selection import train_test_split\n",
    "from sklearn import metrics\n",
    "from sklearn.preprocessing import MinMaxScaler\n"
   ]
  },
  {
   "cell_type": "code",
   "execution_count": 149,
   "metadata": {},
   "outputs": [],
   "source": [
    "X = uber_final.drop('log_fare_bin', axis=1)\n",
    "y= uber_final['log_fare_bin']\n"
   ]
  },
  {
   "cell_type": "code",
   "execution_count": 150,
   "metadata": {},
   "outputs": [
    {
     "data": {
      "text/html": [
       "<div>\n",
       "<style scoped>\n",
       "    .dataframe tbody tr th:only-of-type {\n",
       "        vertical-align: middle;\n",
       "    }\n",
       "\n",
       "    .dataframe tbody tr th {\n",
       "        vertical-align: top;\n",
       "    }\n",
       "\n",
       "    .dataframe thead th {\n",
       "        text-align: right;\n",
       "    }\n",
       "</style>\n",
       "<table border=\"1\" class=\"dataframe\">\n",
       "  <thead>\n",
       "    <tr style=\"text-align: right;\">\n",
       "      <th></th>\n",
       "      <th>fare_amount</th>\n",
       "      <th>passenger_count</th>\n",
       "      <th>distance(mi)</th>\n",
       "      <th>fare_per_distance</th>\n",
       "      <th>month_Apr</th>\n",
       "      <th>month_Aug</th>\n",
       "      <th>month_Dec</th>\n",
       "      <th>month_Feb</th>\n",
       "      <th>month_Jan</th>\n",
       "      <th>month_Jul</th>\n",
       "      <th>...</th>\n",
       "      <th>hour_14</th>\n",
       "      <th>hour_15</th>\n",
       "      <th>hour_16</th>\n",
       "      <th>hour_17</th>\n",
       "      <th>hour_18</th>\n",
       "      <th>hour_19</th>\n",
       "      <th>hour_20</th>\n",
       "      <th>hour_21</th>\n",
       "      <th>hour_22</th>\n",
       "      <th>hour_23</th>\n",
       "    </tr>\n",
       "  </thead>\n",
       "  <tbody>\n",
       "    <tr>\n",
       "      <th>0</th>\n",
       "      <td>7.5</td>\n",
       "      <td>1</td>\n",
       "      <td>1.045970</td>\n",
       "      <td>7.17</td>\n",
       "      <td>0</td>\n",
       "      <td>0</td>\n",
       "      <td>0</td>\n",
       "      <td>0</td>\n",
       "      <td>0</td>\n",
       "      <td>0</td>\n",
       "      <td>...</td>\n",
       "      <td>0</td>\n",
       "      <td>0</td>\n",
       "      <td>0</td>\n",
       "      <td>0</td>\n",
       "      <td>0</td>\n",
       "      <td>1</td>\n",
       "      <td>0</td>\n",
       "      <td>0</td>\n",
       "      <td>0</td>\n",
       "      <td>0</td>\n",
       "    </tr>\n",
       "    <tr>\n",
       "      <th>1</th>\n",
       "      <td>7.7</td>\n",
       "      <td>1</td>\n",
       "      <td>1.527078</td>\n",
       "      <td>5.04</td>\n",
       "      <td>0</td>\n",
       "      <td>0</td>\n",
       "      <td>0</td>\n",
       "      <td>0</td>\n",
       "      <td>0</td>\n",
       "      <td>1</td>\n",
       "      <td>...</td>\n",
       "      <td>0</td>\n",
       "      <td>0</td>\n",
       "      <td>0</td>\n",
       "      <td>0</td>\n",
       "      <td>0</td>\n",
       "      <td>0</td>\n",
       "      <td>1</td>\n",
       "      <td>0</td>\n",
       "      <td>0</td>\n",
       "      <td>0</td>\n",
       "    </tr>\n",
       "    <tr>\n",
       "      <th>2</th>\n",
       "      <td>12.9</td>\n",
       "      <td>1</td>\n",
       "      <td>3.129464</td>\n",
       "      <td>4.12</td>\n",
       "      <td>0</td>\n",
       "      <td>1</td>\n",
       "      <td>0</td>\n",
       "      <td>0</td>\n",
       "      <td>0</td>\n",
       "      <td>0</td>\n",
       "      <td>...</td>\n",
       "      <td>0</td>\n",
       "      <td>0</td>\n",
       "      <td>0</td>\n",
       "      <td>0</td>\n",
       "      <td>0</td>\n",
       "      <td>0</td>\n",
       "      <td>0</td>\n",
       "      <td>1</td>\n",
       "      <td>0</td>\n",
       "      <td>0</td>\n",
       "    </tr>\n",
       "    <tr>\n",
       "      <th>3</th>\n",
       "      <td>5.3</td>\n",
       "      <td>3</td>\n",
       "      <td>1.032524</td>\n",
       "      <td>5.13</td>\n",
       "      <td>0</td>\n",
       "      <td>0</td>\n",
       "      <td>0</td>\n",
       "      <td>0</td>\n",
       "      <td>0</td>\n",
       "      <td>0</td>\n",
       "      <td>...</td>\n",
       "      <td>0</td>\n",
       "      <td>0</td>\n",
       "      <td>0</td>\n",
       "      <td>0</td>\n",
       "      <td>0</td>\n",
       "      <td>0</td>\n",
       "      <td>0</td>\n",
       "      <td>0</td>\n",
       "      <td>0</td>\n",
       "      <td>0</td>\n",
       "    </tr>\n",
       "    <tr>\n",
       "      <th>4</th>\n",
       "      <td>16.0</td>\n",
       "      <td>5</td>\n",
       "      <td>2.780920</td>\n",
       "      <td>5.75</td>\n",
       "      <td>0</td>\n",
       "      <td>1</td>\n",
       "      <td>0</td>\n",
       "      <td>0</td>\n",
       "      <td>0</td>\n",
       "      <td>0</td>\n",
       "      <td>...</td>\n",
       "      <td>0</td>\n",
       "      <td>0</td>\n",
       "      <td>0</td>\n",
       "      <td>1</td>\n",
       "      <td>0</td>\n",
       "      <td>0</td>\n",
       "      <td>0</td>\n",
       "      <td>0</td>\n",
       "      <td>0</td>\n",
       "      <td>0</td>\n",
       "    </tr>\n",
       "  </tbody>\n",
       "</table>\n",
       "<p>5 rows × 47 columns</p>\n",
       "</div>"
      ],
      "text/plain": [
       "   fare_amount  passenger_count  distance(mi)  fare_per_distance  month_Apr  \\\n",
       "0          7.5                1      1.045970               7.17          0   \n",
       "1          7.7                1      1.527078               5.04          0   \n",
       "2         12.9                1      3.129464               4.12          0   \n",
       "3          5.3                3      1.032524               5.13          0   \n",
       "4         16.0                5      2.780920               5.75          0   \n",
       "\n",
       "   month_Aug  month_Dec  month_Feb  month_Jan  month_Jul  ...  hour_14  \\\n",
       "0          0          0          0          0          0  ...        0   \n",
       "1          0          0          0          0          1  ...        0   \n",
       "2          1          0          0          0          0  ...        0   \n",
       "3          0          0          0          0          0  ...        0   \n",
       "4          1          0          0          0          0  ...        0   \n",
       "\n",
       "   hour_15  hour_16  hour_17  hour_18  hour_19  hour_20  hour_21  hour_22  \\\n",
       "0        0        0        0        0        1        0        0        0   \n",
       "1        0        0        0        0        0        1        0        0   \n",
       "2        0        0        0        0        0        0        1        0   \n",
       "3        0        0        0        0        0        0        0        0   \n",
       "4        0        0        1        0        0        0        0        0   \n",
       "\n",
       "   hour_23  \n",
       "0        0  \n",
       "1        0  \n",
       "2        0  \n",
       "3        0  \n",
       "4        0  \n",
       "\n",
       "[5 rows x 47 columns]"
      ]
     },
     "execution_count": 150,
     "metadata": {},
     "output_type": "execute_result"
    }
   ],
   "source": [
    "X=pd.get_dummies(X)\n",
    "X.head()"
   ]
  },
  {
   "cell_type": "code",
   "execution_count": 151,
   "metadata": {},
   "outputs": [
    {
     "data": {
      "text/plain": [
       "0          med\n",
       "1          med\n",
       "2         high\n",
       "3          low\n",
       "4         high\n",
       "          ... \n",
       "199994    high\n",
       "199996     med\n",
       "199997    high\n",
       "199998    high\n",
       "199999    high\n",
       "Name: log_fare_bin, Length: 191601, dtype: category\n",
       "Categories (3, object): ['low' < 'med' < 'high']"
      ]
     },
     "execution_count": 151,
     "metadata": {},
     "output_type": "execute_result"
    }
   ],
   "source": [
    "y"
   ]
  },
  {
   "cell_type": "code",
   "execution_count": 152,
   "metadata": {},
   "outputs": [
    {
     "name": "stdout",
     "output_type": "stream",
     "text": [
      "(191601, 47)\n",
      "(191601,)\n"
     ]
    }
   ],
   "source": [
    "print(X.shape)\n",
    "print(y.shape)"
   ]
  },
  {
   "cell_type": "code",
   "execution_count": 153,
   "metadata": {},
   "outputs": [],
   "source": [
    "X_train, X_test, y_train, y_test = train_test_split(X, y, test_size=0.2, random_state=33)"
   ]
  },
  {
   "cell_type": "code",
   "execution_count": 154,
   "metadata": {},
   "outputs": [
    {
     "name": "stdout",
     "output_type": "stream",
     "text": [
      "(153280, 47) (153280,)\n",
      "(38321, 47) (38321,)\n"
     ]
    }
   ],
   "source": [
    "print(X_train.shape,y_train.shape)\n",
    "print(X_test.shape,y_test.shape)"
   ]
  },
  {
   "cell_type": "code",
   "execution_count": 155,
   "metadata": {},
   "outputs": [],
   "source": [
    "scaler = MinMaxScaler()\n",
    "\n",
    "X_train_norm = scaler.fit_transform(X_train)\n",
    "X_test_norm = scaler.fit_transform(X_test)"
   ]
  },
  {
   "cell_type": "code",
   "execution_count": 156,
   "metadata": {},
   "outputs": [
    {
     "data": {
      "text/plain": [
       "array([[1.23076923e-02, 0.00000000e+00, 8.80804341e-04, ...,\n",
       "        0.00000000e+00, 0.00000000e+00, 0.00000000e+00],\n",
       "       [2.46153846e-02, 8.00000000e-01, 1.00443439e-03, ...,\n",
       "        0.00000000e+00, 0.00000000e+00, 1.00000000e+00],\n",
       "       [5.71428571e-02, 0.00000000e+00, 8.18655160e-04, ...,\n",
       "        0.00000000e+00, 0.00000000e+00, 0.00000000e+00],\n",
       "       ...,\n",
       "       [2.63736264e-02, 0.00000000e+00, 1.90477042e-03, ...,\n",
       "        0.00000000e+00, 0.00000000e+00, 0.00000000e+00],\n",
       "       [6.81318681e-02, 0.00000000e+00, 4.16402878e-03, ...,\n",
       "        0.00000000e+00, 0.00000000e+00, 0.00000000e+00],\n",
       "       [1.53846154e-02, 0.00000000e+00, 7.42620762e-04, ...,\n",
       "        0.00000000e+00, 0.00000000e+00, 0.00000000e+00]])"
      ]
     },
     "execution_count": 156,
     "metadata": {},
     "output_type": "execute_result"
    }
   ],
   "source": [
    "X_train_norm"
   ]
  },
  {
   "cell_type": "markdown",
   "metadata": {},
   "source": [
    "# Feature Dimension Reduction by LDA on Uber Data"
   ]
  },
  {
   "cell_type": "code",
   "execution_count": 157,
   "metadata": {},
   "outputs": [
    {
     "data": {
      "text/plain": [
       "['med', 'high', 'low']\n",
       "Categories (3, object): ['low' < 'med' < 'high']"
      ]
     },
     "execution_count": 157,
     "metadata": {},
     "output_type": "execute_result"
    }
   ],
   "source": [
    "y.unique()"
   ]
  },
  {
   "cell_type": "markdown",
   "metadata": {},
   "source": [
    "There are three labels in the target variable"
   ]
  },
  {
   "cell_type": "code",
   "execution_count": 158,
   "metadata": {},
   "outputs": [],
   "source": [
    "lda = LinearDiscriminantAnalysis(n_components=2)\n",
    "X_train_norm_lda = lda.fit_transform(X_train_norm, y_train)\n",
    "X_test_norm_lda = lda.transform(X_test_norm)"
   ]
  },
  {
   "cell_type": "code",
   "execution_count": 159,
   "metadata": {},
   "outputs": [
    {
     "data": {
      "text/plain": [
       "((153280, 2), (38321, 2))"
      ]
     },
     "execution_count": 159,
     "metadata": {},
     "output_type": "execute_result"
    }
   ],
   "source": [
    "X_train_norm_lda.shape, X_test_norm_lda.shape"
   ]
  },
  {
   "cell_type": "code",
   "execution_count": 160,
   "metadata": {},
   "outputs": [
    {
     "data": {
      "text/plain": [
       "array([0.99532202, 0.00467798])"
      ]
     },
     "execution_count": 160,
     "metadata": {},
     "output_type": "execute_result"
    }
   ],
   "source": [
    "lda.explained_variance_ratio_"
   ]
  },
  {
   "cell_type": "markdown",
   "metadata": {},
   "source": [
    "majority of the variance is in the first component"
   ]
  },
  {
   "cell_type": "code",
   "execution_count": 190,
   "metadata": {},
   "outputs": [
    {
     "data": {
      "image/png": "[encoded data removed]",
      "text/plain": [
       "<Figure size 864x720 with 1 Axes>"
      ]
     },
     "metadata": {
      "needs_background": "light"
     },
     "output_type": "display_data"
    }
   ],
   "source": [
    "plt.figure(figsize =(12,10))\n",
    "sns.scatterplot(data = X_train_norm_lda,x= X_train_norm_lda[:, 0],y= X_train_norm_lda[:, 1],\n",
    "                 hue=y_train, alpha = 0.5)\n",
    "plt.xlabel(\"Component 1\")\n",
    "plt.ylabel(\"Component 2\")\n",
    "plt.title(\"LDA on Training Set\")\n",
    "plt.xlim([-20, 5])\n",
    "plt.ylim([-80, 5])\n",
    "plt.legend(title = \"price range\")\n",
    "plt.show()"
   ]
  },
  {
   "cell_type": "code",
   "execution_count": 189,
   "metadata": {},
   "outputs": [
    {
     "data": {
      "image/png": "[encoded data removed]",
      "text/plain": [
       "<Figure size 864x720 with 1 Axes>"
      ]
     },
     "metadata": {
      "needs_background": "light"
     },
     "output_type": "display_data"
    }
   ],
   "source": [
    "plt.figure(figsize =(12,10))\n",
    "sns.scatterplot(data =X_test_norm_lda, x=X_test_norm_lda[:, 0], y=X_test_norm_lda[:, 1], hue = y_test,\n",
    "                alpha = 0.5 )\n",
    "plt.xlabel(\"Component 1\")\n",
    "plt.ylabel(\"Component 2\")\n",
    "plt.title(\"LDA on Testing Set\")\n",
    "plt.xlim([-20, 5])\n",
    "plt.ylim([-80, 5])\n",
    "plt.legend(title = \"price range\")\n",
    "plt.show()"
   ]
  },
  {
   "cell_type": "markdown",
   "metadata": {},
   "source": [
    "These 2 components are separated well within classes there are only a few that overlap between classes"
   ]
  },
  {
   "cell_type": "markdown",
   "metadata": {},
   "source": [
    "### Apply the Logistic Regression Model on the 2 components"
   ]
  },
  {
   "cell_type": "code",
   "execution_count": 163,
   "metadata": {},
   "outputs": [],
   "source": [
    "from sklearn.linear_model import LogisticRegression"
   ]
  },
  {
   "cell_type": "code",
   "execution_count": 164,
   "metadata": {},
   "outputs": [],
   "source": [
    "lg = LogisticRegression()\n",
    "lg.fit(X_train_norm_lda, y_train)\n",
    "pred_train_lda = lg.predict(X_train_norm_lda)\n",
    "pred_test_lda = lg.predict(X_test_norm_lda)"
   ]
  },
  {
   "cell_type": "code",
   "execution_count": 165,
   "metadata": {},
   "outputs": [
    {
     "name": "stdout",
     "output_type": "stream",
     "text": [
      "              precision    recall  f1-score   support\n",
      "\n",
      "        high       0.96      0.95      0.95     51722\n",
      "         low       0.91      0.92      0.92     54394\n",
      "         med       0.85      0.85      0.85     47164\n",
      "\n",
      "    accuracy                           0.91    153280\n",
      "   macro avg       0.91      0.91      0.91    153280\n",
      "weighted avg       0.91      0.91      0.91    153280\n",
      "\n",
      "              precision    recall  f1-score   support\n",
      "\n",
      "        high       0.43      1.00      0.60     12947\n",
      "         low       1.00      0.03      0.06     13590\n",
      "         med       0.00      0.00      0.00     11784\n",
      "\n",
      "    accuracy                           0.35     38321\n",
      "   macro avg       0.48      0.34      0.22     38321\n",
      "weighted avg       0.50      0.35      0.22     38321\n",
      "\n"
     ]
    }
   ],
   "source": [
    "print(metrics.classification_report(y_train, pred_train_lda))\n",
    "print(metrics.classification_report(y_test, pred_test_lda))"
   ]
  },
  {
   "cell_type": "code",
   "execution_count": 166,
   "metadata": {},
   "outputs": [
    {
     "data": {
      "image/png": "[encoded data removed]",
      "text/plain": [
       "<Figure size 432x288 with 1 Axes>"
      ]
     },
     "metadata": {
      "needs_background": "light"
     },
     "output_type": "display_data"
    }
   ],
   "source": [
    "confusion_matrix(y_test, pred_test_lda)"
   ]
  },
  {
   "cell_type": "markdown",
   "metadata": {},
   "source": [
    "# Apply Logistic Regression Model on original Features"
   ]
  },
  {
   "cell_type": "code",
   "execution_count": 167,
   "metadata": {},
   "outputs": [],
   "source": [
    "lg = LogisticRegression()\n",
    "lg.fit(X_train_norm, y_train)\n",
    "pred_train_lg = lg.predict(X_train_norm)\n",
    "pred_test_lg = lg.predict(X_test_norm)"
   ]
  },
  {
   "cell_type": "code",
   "execution_count": 168,
   "metadata": {},
   "outputs": [
    {
     "name": "stdout",
     "output_type": "stream",
     "text": [
      "              precision    recall  f1-score   support\n",
      "\n",
      "        high       1.00      0.93      0.96     51722\n",
      "         low       0.92      1.00      0.96     54394\n",
      "         med       0.92      0.90      0.91     47164\n",
      "\n",
      "    accuracy                           0.95    153280\n",
      "   macro avg       0.95      0.94      0.94    153280\n",
      "weighted avg       0.95      0.95      0.95    153280\n",
      "\n",
      "              precision    recall  f1-score   support\n",
      "\n",
      "        high       0.44      1.00      0.61     12947\n",
      "         low       1.00      0.02      0.04     13590\n",
      "         med       0.00      0.00      0.00     11784\n",
      "\n",
      "    accuracy                           0.34     38321\n",
      "   macro avg       0.48      0.34      0.21     38321\n",
      "weighted avg       0.50      0.34      0.22     38321\n",
      "\n"
     ]
    }
   ],
   "source": [
    "print(metrics.classification_report(y_train, pred_train_lg))\n",
    "print(metrics.classification_report(y_test, pred_test_lg))"
   ]
  },
  {
   "cell_type": "code",
   "execution_count": 169,
   "metadata": {},
   "outputs": [
    {
     "data": {
      "image/png": "[encoded data removed]",
      "text/plain": [
       "<Figure size 432x288 with 1 Axes>"
      ]
     },
     "metadata": {
      "needs_background": "light"
     },
     "output_type": "display_data"
    }
   ],
   "source": [
    "confusion_matrix(y_test, pred_test_lg)"
   ]
  },
  {
   "cell_type": "code",
   "execution_count": 170,
   "metadata": {},
   "outputs": [
    {
     "name": "stdout",
     "output_type": "stream",
     "text": [
      "The test accuracy with LDA is: 34.91297199968685\n",
      "The test accuracy without LDA is: 34.45891286761828\n"
     ]
    }
   ],
   "source": [
    "print(f\"The test accuracy with LDA is: {metrics.accuracy_score(y_test, pred_test_lda)*100}\")\n",
    "print(f\"The test accuracy without LDA is: {metrics.accuracy_score(y_test, pred_test_lg)*100}\")"
   ]
  },
  {
   "cell_type": "markdown",
   "metadata": {},
   "source": [
    "Using the LDA components on this dataset resulted in an increase by about 1%, however the overall performance is still low"
   ]
  },
  {
   "cell_type": "markdown",
   "metadata": {},
   "source": [
    "# Using LDA as a Classification Algorithm"
   ]
  },
  {
   "cell_type": "markdown",
   "metadata": {},
   "source": [
    "### Simple LDA Model"
   ]
  },
  {
   "cell_type": "code",
   "execution_count": 171,
   "metadata": {},
   "outputs": [],
   "source": [
    "ldclf = LinearDiscriminantAnalysis()\n",
    "ldclf.fit(X_train_norm, y_train)\n",
    "pred_train = ldclf.predict(X_train)\n",
    "pred_test = ldclf. predict(X_test)"
   ]
  },
  {
   "cell_type": "code",
   "execution_count": 172,
   "metadata": {},
   "outputs": [
    {
     "name": "stdout",
     "output_type": "stream",
     "text": [
      "              precision    recall  f1-score   support\n",
      "\n",
      "        high       0.42      0.99      0.59     51722\n",
      "         low       0.87      0.52      0.65     54394\n",
      "         med       0.00      0.00      0.00     47164\n",
      "\n",
      "    accuracy                           0.52    153280\n",
      "   macro avg       0.43      0.50      0.41    153280\n",
      "weighted avg       0.45      0.52      0.43    153280\n",
      "\n",
      "              precision    recall  f1-score   support\n",
      "\n",
      "        high       0.42      0.99      0.59     12947\n",
      "         low       0.87      0.51      0.65     13590\n",
      "         med       0.00      0.00      0.00     11784\n",
      "\n",
      "    accuracy                           0.52     38321\n",
      "   macro avg       0.43      0.50      0.41     38321\n",
      "weighted avg       0.45      0.52      0.43     38321\n",
      "\n"
     ]
    }
   ],
   "source": [
    "print(metrics.classification_report(y_train, pred_train))\n",
    "print(metrics.classification_report(y_test, pred_test))"
   ]
  },
  {
   "cell_type": "code",
   "execution_count": 173,
   "metadata": {},
   "outputs": [
    {
     "data": {
      "image/png": "[encoded data removed]",
      "text/plain": [
       "<Figure size 432x288 with 1 Axes>"
      ]
     },
     "metadata": {
      "needs_background": "light"
     },
     "output_type": "display_data"
    }
   ],
   "source": [
    "confusion_matrix(y_test, pred_test)"
   ]
  },
  {
   "cell_type": "markdown",
   "metadata": {},
   "source": [
    "Using a simple LDA model did not perform so well in terms of accuracy on the test data, but we will try and get a better result using GridSearchCV"
   ]
  },
  {
   "cell_type": "markdown",
   "metadata": {},
   "source": [
    "# LDA with Random Forest Feature Importance and Tuning"
   ]
  },
  {
   "cell_type": "code",
   "execution_count": 174,
   "metadata": {},
   "outputs": [],
   "source": [
    "from sklearn.ensemble import RandomForestClassifier\n",
    "rfclf = RandomForestClassifier()\n"
   ]
  },
  {
   "cell_type": "code",
   "execution_count": 175,
   "metadata": {},
   "outputs": [],
   "source": [
    "rfclf.fit(X_train_norm, y_train)\n",
    "pred_rf_train = rfclf.predict(X_train_norm)\n",
    "pred_rf_test = rfclf.predict(X_test_norm)"
   ]
  },
  {
   "cell_type": "code",
   "execution_count": 176,
   "metadata": {},
   "outputs": [],
   "source": [
    "def plot_feature_importances(model, n_features, feature_names):\n",
    "    plt.barh(range(n_features), model.feature_importances_, align='center')\n",
    "    plt.yticks(np.arange(n_features), feature_names)\n",
    "    plt.xlabel(\"Feature importance\")\n",
    "    plt.ylabel(\"Feature\")\n",
    "    plt.ylim(-1, n_features)"
   ]
  },
  {
   "cell_type": "code",
   "execution_count": 177,
   "metadata": {},
   "outputs": [
    {
     "data": {
      "image/png": "[encoded data removed]",
      "text/plain": [
       "<Figure size 864x720 with 1 Axes>"
      ]
     },
     "metadata": {
      "needs_background": "light"
     },
     "output_type": "display_data"
    }
   ],
   "source": [
    "features = X_train.columns.tolist()\n",
    "plt.figure(figsize =(12,10))\n",
    "plot_feature_importances(rfclf, len(features), features)"
   ]
  },
  {
   "cell_type": "markdown",
   "metadata": {},
   "source": [
    "The point in time variables appears to be not important they will be removed and another LDA model will be created"
   ]
  },
  {
   "cell_type": "code",
   "execution_count": 178,
   "metadata": {},
   "outputs": [],
   "source": [
    "X_train_rf = X_train[['fare_amount','fare_per_distance','distance(mi)','passenger_count']]\n",
    "X_test_rf = X_test[['fare_amount','fare_per_distance','distance(mi)','passenger_count']]"
   ]
  },
  {
   "cell_type": "code",
   "execution_count": 179,
   "metadata": {},
   "outputs": [],
   "source": [
    "X_train_rf_norm = scaler.fit_transform(X_train_rf)\n",
    "X_test_rf_norm = scaler.fit_transform(X_test_rf)"
   ]
  },
  {
   "cell_type": "code",
   "execution_count": 180,
   "metadata": {},
   "outputs": [],
   "source": [
    "parameters = {\n",
    "    \"solver\":[\"svd\",\"lsqr\", \"eigen\"],\n",
    "    \"shrinkage\": [\"auto\",\"float\"]\n",
    "}\n",
    "\n",
    "gs = GridSearchCV(ldclf, parameters, scoring =\"accuracy\", cv=3, n_jobs=-1)"
   ]
  },
  {
   "cell_type": "code",
   "execution_count": 181,
   "metadata": {},
   "outputs": [
    {
     "data": {
      "text/html": [
       "<style>#sk-container-id-4 {color: black;background-color: white;}#sk-container-id-4 pre{padding: 0;}#sk-container-id-4 div.sk-toggleable {background-color: white;}#sk-container-id-4 label.sk-toggleable__label {cursor: pointer;display: block;width: 100%;margin-bottom: 0;padding: 0.3em;box-sizing: border-box;text-align: center;}#sk-container-id-4 label.sk-toggleable__label-arrow:before {content: \"▸\";float: left;margin-right: 0.25em;color: #696969;}#sk-container-id-4 label.sk-toggleable__label-arrow:hover:before {color: black;}#sk-container-id-4 div.sk-estimator:hover label.sk-toggleable__label-arrow:before {color: black;}#sk-container-id-4 div.sk-toggleable__content {max-height: 0;max-width: 0;overflow: hidden;text-align: left;background-color: #f0f8ff;}#sk-container-id-4 div.sk-toggleable__content pre {margin: 0.2em;color: black;border-radius: 0.25em;background-color: #f0f8ff;}#sk-container-id-4 input.sk-toggleable__control:checked~div.sk-toggleable__content {max-height: 200px;max-width: 100%;overflow: auto;}#sk-container-id-4 input.sk-toggleable__control:checked~label.sk-toggleable__label-arrow:before {content: \"▾\";}#sk-container-id-4 div.sk-estimator input.sk-toggleable__control:checked~label.sk-toggleable__label {background-color: #d4ebff;}#sk-container-id-4 div.sk-label input.sk-toggleable__control:checked~label.sk-toggleable__label {background-color: #d4ebff;}#sk-container-id-4 input.sk-hidden--visually {border: 0;clip: rect(1px 1px 1px 1px);clip: rect(1px, 1px, 1px, 1px);height: 1px;margin: -1px;overflow: hidden;padding: 0;position: absolute;width: 1px;}#sk-container-id-4 div.sk-estimator {font-family: monospace;background-color: #f0f8ff;border: 1px dotted black;border-radius: 0.25em;box-sizing: border-box;margin-bottom: 0.5em;}#sk-container-id-4 div.sk-estimator:hover {background-color: #d4ebff;}#sk-container-id-4 div.sk-parallel-item::after {content: \"\";width: 100%;border-bottom: 1px solid gray;flex-grow: 1;}#sk-container-id-4 div.sk-label:hover label.sk-toggleable__label {background-color: #d4ebff;}#sk-container-id-4 div.sk-serial::before {content: \"\";position: absolute;border-left: 1px solid gray;box-sizing: border-box;top: 0;bottom: 0;left: 50%;z-index: 0;}#sk-container-id-4 div.sk-serial {display: flex;flex-direction: column;align-items: center;background-color: white;padding-right: 0.2em;padding-left: 0.2em;position: relative;}#sk-container-id-4 div.sk-item {position: relative;z-index: 1;}#sk-container-id-4 div.sk-parallel {display: flex;align-items: stretch;justify-content: center;background-color: white;position: relative;}#sk-container-id-4 div.sk-item::before, #sk-container-id-4 div.sk-parallel-item::before {content: \"\";position: absolute;border-left: 1px solid gray;box-sizing: border-box;top: 0;bottom: 0;left: 50%;z-index: -1;}#sk-container-id-4 div.sk-parallel-item {display: flex;flex-direction: column;z-index: 1;position: relative;background-color: white;}#sk-container-id-4 div.sk-parallel-item:first-child::after {align-self: flex-end;width: 50%;}#sk-container-id-4 div.sk-parallel-item:last-child::after {align-self: flex-start;width: 50%;}#sk-container-id-4 div.sk-parallel-item:only-child::after {width: 0;}#sk-container-id-4 div.sk-dashed-wrapped {border: 1px dashed gray;margin: 0 0.4em 0.5em 0.4em;box-sizing: border-box;padding-bottom: 0.4em;background-color: white;}#sk-container-id-4 div.sk-label label {font-family: monospace;font-weight: bold;display: inline-block;line-height: 1.2em;}#sk-container-id-4 div.sk-label-container {text-align: center;}#sk-container-id-4 div.sk-container {/* jupyter's `normalize.less` sets `[hidden] { display: none; }` but bootstrap.min.css set `[hidden] { display: none !important; }` so we also need the `!important` here to be able to override the default hidden behavior on the sphinx rendered scikit-learn.org. See: https://github.com/scikit-learn/scikit-learn/issues/21755 */display: inline-block !important;position: relative;}#sk-container-id-4 div.sk-text-repr-fallback {display: none;}</style><div id=\"sk-container-id-4\" class=\"sk-top-container\"><div class=\"sk-text-repr-fallback\"><pre>GridSearchCV(cv=3, estimator=LinearDiscriminantAnalysis(), n_jobs=-1,\n",
       "             param_grid={&#x27;shrinkage&#x27;: [&#x27;auto&#x27;, &#x27;float&#x27;],\n",
       "                         &#x27;solver&#x27;: [&#x27;svd&#x27;, &#x27;lsqr&#x27;, &#x27;eigen&#x27;]},\n",
       "             scoring=&#x27;accuracy&#x27;)</pre><b>In a Jupyter environment, please rerun this cell to show the HTML representation or trust the notebook. <br />On GitHub, the HTML representation is unable to render, please try loading this page with nbviewer.org.</b></div><div class=\"sk-container\" hidden><div class=\"sk-item sk-dashed-wrapped\"><div class=\"sk-label-container\"><div class=\"sk-label sk-toggleable\"><input class=\"sk-toggleable__control sk-hidden--visually\" id=\"sk-estimator-id-10\" type=\"checkbox\" ><label for=\"sk-estimator-id-10\" class=\"sk-toggleable__label sk-toggleable__label-arrow\">GridSearchCV</label><div class=\"sk-toggleable__content\"><pre>GridSearchCV(cv=3, estimator=LinearDiscriminantAnalysis(), n_jobs=-1,\n",
       "             param_grid={&#x27;shrinkage&#x27;: [&#x27;auto&#x27;, &#x27;float&#x27;],\n",
       "                         &#x27;solver&#x27;: [&#x27;svd&#x27;, &#x27;lsqr&#x27;, &#x27;eigen&#x27;]},\n",
       "             scoring=&#x27;accuracy&#x27;)</pre></div></div></div><div class=\"sk-parallel\"><div class=\"sk-parallel-item\"><div class=\"sk-item\"><div class=\"sk-label-container\"><div class=\"sk-label sk-toggleable\"><input class=\"sk-toggleable__control sk-hidden--visually\" id=\"sk-estimator-id-11\" type=\"checkbox\" ><label for=\"sk-estimator-id-11\" class=\"sk-toggleable__label sk-toggleable__label-arrow\">estimator: LinearDiscriminantAnalysis</label><div class=\"sk-toggleable__content\"><pre>LinearDiscriminantAnalysis()</pre></div></div></div><div class=\"sk-serial\"><div class=\"sk-item\"><div class=\"sk-estimator sk-toggleable\"><input class=\"sk-toggleable__control sk-hidden--visually\" id=\"sk-estimator-id-12\" type=\"checkbox\" ><label for=\"sk-estimator-id-12\" class=\"sk-toggleable__label sk-toggleable__label-arrow\">LinearDiscriminantAnalysis</label><div class=\"sk-toggleable__content\"><pre>LinearDiscriminantAnalysis()</pre></div></div></div></div></div></div></div></div></div></div>"
      ],
      "text/plain": [
       "GridSearchCV(cv=3, estimator=LinearDiscriminantAnalysis(), n_jobs=-1,\n",
       "             param_grid={'shrinkage': ['auto', 'float'],\n",
       "                         'solver': ['svd', 'lsqr', 'eigen']},\n",
       "             scoring='accuracy')"
      ]
     },
     "execution_count": 181,
     "metadata": {},
     "output_type": "execute_result"
    }
   ],
   "source": [
    "gs.fit(X_train_rf_norm, y_train)"
   ]
  },
  {
   "cell_type": "code",
   "execution_count": 182,
   "metadata": {},
   "outputs": [
    {
     "data": {
      "text/plain": [
       "{'shrinkage': 'auto', 'solver': 'lsqr'}"
      ]
     },
     "execution_count": 182,
     "metadata": {},
     "output_type": "execute_result"
    }
   ],
   "source": [
    "gs.best_params_"
   ]
  },
  {
   "cell_type": "code",
   "execution_count": 183,
   "metadata": {},
   "outputs": [],
   "source": [
    "pred_train_best = gs.predict(X_train_rf_norm)\n",
    "pred_test_best =gs.predict(X_test_rf_norm)"
   ]
  },
  {
   "cell_type": "code",
   "execution_count": 184,
   "metadata": {},
   "outputs": [
    {
     "name": "stdout",
     "output_type": "stream",
     "text": [
      "              precision    recall  f1-score   support\n",
      "\n",
      "        high       1.00      0.62      0.76     51722\n",
      "         low       0.69      1.00      0.82     54394\n",
      "         med       0.55      0.50      0.52     47164\n",
      "\n",
      "    accuracy                           0.72    153280\n",
      "   macro avg       0.75      0.71      0.70    153280\n",
      "weighted avg       0.75      0.72      0.71    153280\n",
      "\n",
      "              precision    recall  f1-score   support\n",
      "\n",
      "        high       0.61      1.00      0.76     12947\n",
      "         low       0.95      0.43      0.59     13590\n",
      "         med       0.30      0.28      0.29     11784\n",
      "\n",
      "    accuracy                           0.58     38321\n",
      "   macro avg       0.62      0.57      0.55     38321\n",
      "weighted avg       0.64      0.58      0.55     38321\n",
      "\n"
     ]
    }
   ],
   "source": [
    "print(metrics.classification_report(y_train, pred_train_best))\n",
    "print(metrics.classification_report(y_test, pred_test_best))"
   ]
  },
  {
   "cell_type": "code",
   "execution_count": 185,
   "metadata": {},
   "outputs": [
    {
     "data": {
      "image/png": "[encoded data removed]",
      "text/plain": [
       "<Figure size 432x288 with 1 Axes>"
      ]
     },
     "metadata": {
      "needs_background": "light"
     },
     "output_type": "display_data"
    }
   ],
   "source": [
    "confusion_matrix(y_test, pred_test_best)"
   ]
  }
 ],
 "metadata": {
  "kernelspec": {
   "display_name": "Python 3",
   "language": "python",
   "name": "python3"
  },
  "language_info": {
   "codemirror_mode": {
    "name": "ipython",
    "version": 3
   },
   "file_extension": ".py",
   "mimetype": "text/x-python",
   "name": "python",
   "nbconvert_exporter": "python",
   "pygments_lexer": "ipython3",
   "version": "3.7.4"
  },
  "vscode": {
   "interpreter": {
    "hash": "570feb405e2e27c949193ac68f46852414290d515b0ba6e5d90d076ed2284471"
   }
  }
 },
 "nbformat": 4,
 "nbformat_minor": 2
}
